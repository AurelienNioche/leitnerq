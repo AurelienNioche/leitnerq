{
 "cells": [
  {
   "cell_type": "code",
   "execution_count": null,
   "metadata": {
    "collapsed": true
   },
   "outputs": [],
   "source": [
    "from __future__ import division\n",
    "\n",
    "import time\n",
    "import copy\n",
    "import pickle\n",
    "import os\n",
    "\n",
    "import pandas as pd\n",
    "import numpy as np\n",
    "\n",
    "import lqn"
   ]
  },
  {
   "cell_type": "code",
   "execution_count": null,
   "metadata": {
    "collapsed": true
   },
   "outputs": [],
   "source": [
    "from matplotlib import pyplot as plt\n",
    "import seaborn as sns\n",
    "%matplotlib inline"
   ]
  },
  {
   "cell_type": "code",
   "execution_count": null,
   "metadata": {
    "collapsed": true
   },
   "outputs": [],
   "source": [
    "import matplotlib as mpl\n",
    "mpl.rc('savefig', dpi=300)\n",
    "mpl.rc('text', usetex=True)"
   ]
  },
  {
   "cell_type": "markdown",
   "metadata": {},
   "source": [
    "Sanity check"
   ]
  },
  {
   "cell_type": "code",
   "execution_count": null,
   "metadata": {
    "collapsed": false
   },
   "outputs": [],
   "source": [
    "init_data = {\n",
    "    'arrival_time_of_item' : {'1': int(time.time())},\n",
    "    'review_rates' : [0.25, 0.25, 0.25, 0.25]\n",
    "}\n",
    "\n",
    "scheduler = lqn.StatelessLQNScheduler(init_data)\n",
    "\n",
    "history = []\n",
    "\n",
    "assert scheduler.next_item(history) == '1'"
   ]
  },
  {
   "cell_type": "markdown",
   "metadata": {},
   "source": [
    "Simulations"
   ]
  },
  {
   "cell_type": "code",
   "execution_count": null,
   "metadata": {
    "collapsed": true
   },
   "outputs": [],
   "source": [
    "global_item_difficulty = 0.0076899999999998905\n",
    "num_timesteps_in_sim = 1000"
   ]
  },
  {
   "cell_type": "code",
   "execution_count": null,
   "metadata": {
    "collapsed": false
   },
   "outputs": [],
   "source": [
    "all_items = {str(i) for i in xrange(50)}\n",
    "arrival_rate = 0.05\n",
    "start_time = int(time.time())\n",
    "init_data = {\n",
    "    'arrival_time_of_item' : lqn.sample_arrival_times(all_items, arrival_rate, start_time),\n",
    "    'review_rates' : [0.25, 0.25, 0.25, 0.25]\n",
    "}\n",
    "\n",
    "scheduler = lqn.StatelessLQNScheduler(init_data)"
   ]
  },
  {
   "cell_type": "code",
   "execution_count": null,
   "metadata": {
    "collapsed": true
   },
   "outputs": [],
   "source": [
    "num_decks = len(init_data['review_rates'])"
   ]
  },
  {
   "cell_type": "code",
   "execution_count": null,
   "metadata": {
    "collapsed": false
   },
   "outputs": [],
   "source": [
    "work_rate = 0.19020740740740741\n",
    "inter_arrival_times = np.random.exponential(1 / work_rate, num_timesteps_in_sim)\n",
    "timesteps = int(time.time()) + np.cumsum(inter_arrival_times, axis=0).astype(int)"
   ]
  },
  {
   "cell_type": "code",
   "execution_count": null,
   "metadata": {
    "collapsed": false
   },
   "outputs": [],
   "source": [
    "history = []\n",
    "\n",
    "deck_of_item = {item: 1 for item in all_items}\n",
    "latest_timestamp_of_item = {item: 0 for item in all_items}\n",
    "\n",
    "for current_time in timesteps:\n",
    "    try:\n",
    "        next_item = scheduler.next_item(history, current_time=current_time)\n",
    "    except lqn.ExhaustedError:\n",
    "        continue\n",
    "    \n",
    "    delay = current_time - latest_timestamp_of_item[next_item]\n",
    "    latest_timestamp_of_item[next_item] = current_time\n",
    "    \n",
    "    deck = deck_of_item[next_item]\n",
    "    outcome = 1 if np.random.random() < np.exp(-global_item_difficulty * delay / deck) else 0\n",
    "    \n",
    "    deck_of_item[next_item] = max(1, deck + 2 * outcome - 1)\n",
    "\n",
    "    history.append({'item_id' : next_item, 'outcome' : outcome, 'timestamp' : current_time})"
   ]
  },
  {
   "cell_type": "code",
   "execution_count": null,
   "metadata": {
    "collapsed": true
   },
   "outputs": [],
   "source": [
    "df = pd.DataFrame(history)"
   ]
  },
  {
   "cell_type": "code",
   "execution_count": null,
   "metadata": {
    "collapsed": false
   },
   "outputs": [],
   "source": [
    "np.mean(df['outcome'])"
   ]
  },
  {
   "cell_type": "code",
   "execution_count": null,
   "metadata": {
    "collapsed": true
   },
   "outputs": [],
   "source": [
    "def deck_promotion_rates(init_data, history):\n",
    "    \"\"\"\n",
    "    Compute the observed rates at which items move from deck i to deck i+1\n",
    "    \n",
    "    :param pd.DataFrame history: The logs for a single user\n",
    "    :rtype: list[float]\n",
    "    :return: The average promotion rate (items per second) for each deck\n",
    "    \"\"\"\n",
    "    \n",
    "    deck_of_item = {item: 1 for item in init_data['arrival_time_of_item']}\n",
    "    num_decks = len(init_data['review_rates'])\n",
    "    num_promotions_of_deck = {deck: 0 for deck in xrange(1, num_decks + 1)}\n",
    "    \n",
    "    for ixn in history:\n",
    "        item = ixn['item_id']\n",
    "        outcome = ixn['outcome']\n",
    "        current_deck = deck_of_item[item]\n",
    "        if outcome == 1:\n",
    "            if current_deck >= 1 and current_deck <= num_decks:\n",
    "                num_promotions_of_deck[current_deck] += 1\n",
    "            deck_of_item[item] += 1\n",
    "        elif outcome == 0 and current_deck > 1:\n",
    "            deck_of_item[item] -= 1\n",
    "            \n",
    "    duration = max(ixn['timestamp'] for ixn in history) - min(ixn['timestamp'] for ixn in history)\n",
    "    promotion_rate_of_deck = {deck: (num_promotions / (1 + duration)) for deck, num_promotions in num_promotions_of_deck.iteritems()}\n",
    "    return promotion_rate_of_deck"
   ]
  },
  {
   "cell_type": "code",
   "execution_count": null,
   "metadata": {
    "collapsed": false
   },
   "outputs": [],
   "source": [
    "deck_promotion_rates(init_data, history)"
   ]
  },
  {
   "cell_type": "code",
   "execution_count": null,
   "metadata": {
    "collapsed": false
   },
   "outputs": [],
   "source": [
    "def run_sim(arrival_rate, num_items, review_rates, work_rate, num_timesteps_in_sim, expected_delays=None):\n",
    "    assert work_rate > 0\n",
    "    all_items = {str(i) for i in xrange(num_items)}\n",
    "    start_time = int(time.time())\n",
    "    init_data = {\n",
    "        'arrival_time_of_item' : lqn.sample_arrival_times(all_items, arrival_rate, start_time),\n",
    "        'review_rates' : review_rates\n",
    "    }\n",
    "    num_decks = len(init_data['review_rates'])\n",
    "\n",
    "    scheduler = lqn.StatelessLQNScheduler(init_data)\n",
    "\n",
    "    history = []\n",
    "    deck_of_item = {item: 1 for item in all_items}\n",
    "    latest_timestamp_of_item = {item: 0 for item in all_items}\n",
    "    \n",
    "    inter_arrival_times = np.random.exponential(1 / work_rate, num_timesteps_in_sim)\n",
    "    timesteps = int(time.time()) + np.cumsum(inter_arrival_times, axis=0).astype(int)\n",
    "    for current_time in timesteps:\n",
    "        try:\n",
    "            next_item = scheduler.next_item(history, current_time=current_time)\n",
    "        except lqn.ExhaustedError:\n",
    "            continue\n",
    "\n",
    "        deck = deck_of_item[next_item]\n",
    "        \n",
    "        if expected_delays is None:\n",
    "            delay = current_time - latest_timestamp_of_item[next_item]\n",
    "        else:\n",
    "            delay = expected_delays[deck-1]\n",
    "            \n",
    "        latest_timestamp_of_item[next_item] = current_time\n",
    "\n",
    "        outcome = 1 if np.random.random() < np.exp(-global_item_difficulty * delay / deck) else 0\n",
    "\n",
    "        deck_of_item[next_item] = max(1, deck + 2 * outcome - 1)\n",
    "\n",
    "        history.append({'item_id' : next_item, 'outcome' : outcome, 'timestamp' : current_time})\n",
    "\n",
    "    if history == []:\n",
    "        return 0\n",
    "    promotion_rate_of_deck = deck_promotion_rates(init_data, history)\n",
    "    return promotion_rate_of_deck[num_decks]"
   ]
  },
  {
   "cell_type": "code",
   "execution_count": null,
   "metadata": {
    "collapsed": true
   },
   "outputs": [],
   "source": [
    "num_sim_repeats = 10\n",
    "num_items = 50\n",
    "num_decks = 5\n",
    "work_rate = 0.19020740740740741\n",
    "num_timesteps_in_sim = 500"
   ]
  },
  {
   "cell_type": "code",
   "execution_count": null,
   "metadata": {
    "collapsed": true
   },
   "outputs": [],
   "source": [
    "review_rates = 1 / np.sqrt(np.arange(1, num_decks + 1, 1))\n",
    "review_rates /= review_rates.sum()"
   ]
  },
  {
   "cell_type": "code",
   "execution_count": null,
   "metadata": {
    "collapsed": false
   },
   "outputs": [],
   "source": [
    "run_sim(1., num_items, review_rates, work_rate, num_timesteps_in_sim)"
   ]
  },
  {
   "cell_type": "code",
   "execution_count": null,
   "metadata": {
    "collapsed": true
   },
   "outputs": [],
   "source": [
    "std_err = lambda x: np.nanstd(x) / np.sqrt(len(x))"
   ]
  },
  {
   "cell_type": "markdown",
   "metadata": {},
   "source": [
    "Compared simulations with clocked delay to simulations with expected delay"
   ]
  },
  {
   "cell_type": "code",
   "execution_count": null,
   "metadata": {
    "collapsed": true
   },
   "outputs": [],
   "source": [
    "arrival_rates = np.arange(0.001, 0.01+1e-6, 0.0005)"
   ]
  },
  {
   "cell_type": "code",
   "execution_count": null,
   "metadata": {
    "collapsed": true
   },
   "outputs": [],
   "source": [
    "# from lqn_properties.ipynb\n",
    "expected_delays = [[17.45831047513934,24.874033261431137,30.637632730354593,35.54214863595168,39.80850305584226],\n",
    "[17.70451149225097,25.324103337788188,31.28650378407316,36.38514834813667,40.78786516229408],\n",
    "[17.95952772057373,25.79399158543606,31.968087665912492,37.27463366966395,41.819743097503746],\n",
    "[18.22395536081535,26.285283176223274,32.685314543342464,38.21502936843501,42.9087440428006],\n",
    "[18.498456189362365,26.79976361112582,33.44152125305956,39.21139462930548,44.06006201923345],\n",
    "[18.783768189784464,27.33945528077515,34.240531441366365,40.26954919673025,45.27957931892096],\n",
    "[19.080718566374692,27.906663093466978,35.08675683676157,41.396232465990835,46.57399069580509],\n",
    "[19.390239842403616,28.504032091377404,35.9853268007297,42.5993064197131,47.95095674135353],\n",
    "[19.713390013977783,29.13462117072246,36.94225632579363,43.88801776200694,49.41929510222874],\n",
    "[20.05137812380979,29.80199881343823,37.96466722853826,45.27334126671738,50.9892213653516],\n",
    "[20.405597213355186,30.510369498484984,39.0610843962002,46.76843654741339,52.67265601132406],\n",
    "[20.777667533542807,31.26474383095274,40.24184028695335,48.38926642546366,54.483620568956894],\n",
    "[21.16949436886059,32.07117256150745,41.51963952503457,50.15545078881287,56.43875621474336],\n",
    "[21.58334727273664,32.93707673261626,42.910367136248,52.09147255375186,58.55801360278979],\n",
    "[22.02197156339057,33.87172632206141,44.43427111030511,54.22840822187933,60.86557881030662],\n",
    "[22.488749453624834,34.88696535110477,46.11782274669058,56.60662613741069,63.391206643294694],\n",
    "[22.98795761154307,35.998346858126425,47.99653169733753,59.27966938380305,66.17197032809806],\n",
    "[23.525139164158066,37.22699326007724,50.11984300605754,62.3209538605865,69.25500202920186],\n",
    "[24.107799414410596,38.60292164114505,52.559717619218546,65.83487285129844,72.70146905894362]]"
   ]
  },
  {
   "cell_type": "code",
   "execution_count": null,
   "metadata": {
    "collapsed": false
   },
   "outputs": [],
   "source": [
    "assert len(expected_delays) == len(arrival_rates)"
   ]
  },
  {
   "cell_type": "code",
   "execution_count": null,
   "metadata": {
    "collapsed": false
   },
   "outputs": [],
   "source": [
    "ys = [[run_sim(x, num_items, review_rates, work_rate-x, num_timesteps_in_sim) for _ in xrange(num_sim_repeats)] for x in arrival_rates]"
   ]
  },
  {
   "cell_type": "code",
   "execution_count": null,
   "metadata": {
    "collapsed": false
   },
   "outputs": [],
   "source": [
    "exp_ys = [[run_sim(x, num_items, review_rates, work_rate-x, num_timesteps_in_sim, expected_delays=y) for _ in xrange(num_sim_repeats)] for x, y in zip(arrival_rates, expected_delays)]"
   ]
  },
  {
   "cell_type": "code",
   "execution_count": null,
   "metadata": {
    "collapsed": false
   },
   "outputs": [],
   "source": [
    "mean_ys = [np.mean(y) for y in ys]\n",
    "std_err_ys = [std_err(y) for y in ys]\n",
    "mean_exp_ys = [np.mean(y) for y in exp_ys]\n",
    "std_err_exp_ys = [std_err(y) for y in exp_ys]"
   ]
  },
  {
   "cell_type": "code",
   "execution_count": null,
   "metadata": {
    "collapsed": true
   },
   "outputs": [],
   "source": [
    "plt.xlabel(r'Arrival Rate $\\lambda_{ext}$ (Items Per Second)')\n",
    "plt.ylabel(r'Throughput $\\lambda_n$ (Items Per Second)')\n",
    "plt.errorbar(arrival_rates, mean_exp_ys, yerr=std_err_exp_ys, label='Simulated (Expected Delay)')\n",
    "plt.errorbar(arrival_rates, mean_ys, yerr=std_err_ys, label='Simulated (Clocked Delay)')\n",
    "plt.plot(np.arange(arrival_rates[0], 0.01, 0.0001), np.arange(arrival_rates[0], 0.01, 0.0001), '--', label='Theoretical Steady-State Behavior')\n",
    "plt.legend(loc='best')\n",
    "plt.savefig(os.path.join('figures', 'lqn', 'clocked-vs-expected-delays.pdf'))\n",
    "plt.show()"
   ]
  },
  {
   "cell_type": "code",
   "execution_count": null,
   "metadata": {
    "collapsed": false
   },
   "outputs": [],
   "source": [
    "with open(os.path.join('results', 'clocked-vs-expected-delays.pkl'), 'wb') as f:\n",
    "    pickle.dump((arrival_rates, ys, exp_ys), f, pickle.HIGHEST_PROTOCOL)"
   ]
  },
  {
   "cell_type": "markdown",
   "metadata": {},
   "source": [
    "Compare theoretical phase transition threshold to simulations"
   ]
  },
  {
   "cell_type": "code",
   "execution_count": null,
   "metadata": {
    "collapsed": true
   },
   "outputs": [],
   "source": [
    "arrival_rates = np.arange(0.001, 0.15, 0.005)"
   ]
  },
  {
   "cell_type": "code",
   "execution_count": null,
   "metadata": {
    "collapsed": true
   },
   "outputs": [],
   "source": [
    "theoretical_phase_transition_threshold = 0.016 # from lqn_properties.ipynb"
   ]
  },
  {
   "cell_type": "code",
   "execution_count": null,
   "metadata": {
    "collapsed": false
   },
   "outputs": [],
   "source": [
    "ys = [[run_sim(x, num_items, review_rates, work_rate-x, num_timesteps_in_sim) for _ in xrange(num_sim_repeats)] for x in arrival_rates]"
   ]
  },
  {
   "cell_type": "code",
   "execution_count": null,
   "metadata": {
    "collapsed": false
   },
   "outputs": [],
   "source": [
    "plt.xlabel(r'Arrival Rate $\\lambda_{ext}$ (Items Per Second)')\n",
    "plt.ylabel(r'Throughput $\\lambda_n$ (Items Per Second)')\n",
    "plt.errorbar(arrival_rates, [np.mean(y) for y in ys], yerr=[std_err(y) for y in ys], label='Simulations (Clocked Delay)')\n",
    "plt.axvline(x=theoretical_phase_transition_threshold, label=r'Phase Transition Threshold (Theoretical)', linestyle='--')\n",
    "plt.legend(loc='best')\n",
    "plt.savefig(os.path.join('figures', 'lqn', 'theoretical-vs-simulated-phase-transition.pdf'))\n",
    "plt.show()"
   ]
  },
  {
   "cell_type": "code",
   "execution_count": null,
   "metadata": {
    "collapsed": true
   },
   "outputs": [],
   "source": [
    "with open(os.path.join('results', 'theoretical-vs-simulated-phase-transition.pkl'), 'wb') as f:\n",
    "    pickle.dump((arrival_rates, ys, theoretical_phase_transition_threshold), f, pickle.HIGHEST_PROTOCOL)"
   ]
  },
  {
   "cell_type": "markdown",
   "metadata": {},
   "source": [
    "Compare simulations of different lengths (i.e., transient vs. steady-state behavior)"
   ]
  },
  {
   "cell_type": "code",
   "execution_count": null,
   "metadata": {
    "collapsed": true
   },
   "outputs": [],
   "source": [
    "arrival_rates = np.arange(0.001, 0.15, 0.005)"
   ]
  },
  {
   "cell_type": "code",
   "execution_count": null,
   "metadata": {
    "collapsed": true
   },
   "outputs": [],
   "source": [
    "sim_lengths = [500, 1000, 5000, 10000]\n",
    "num_items = 200"
   ]
  },
  {
   "cell_type": "code",
   "execution_count": null,
   "metadata": {
    "collapsed": false
   },
   "outputs": [],
   "source": [
    "ys = [[[run_sim(x, num_items, review_rates, work_rate-x, y) for _ in xrange(num_sim_repeats)] for x in arrival_rates] for y in sim_lengths]"
   ]
  },
  {
   "cell_type": "code",
   "execution_count": null,
   "metadata": {
    "collapsed": false,
    "scrolled": false
   },
   "outputs": [],
   "source": [
    "plt.xlabel(r'Arrival Rate $\\lambda_{ext}$ (Items Per Second)')\n",
    "plt.ylabel(r'Throughput $\\lambda_n$ (Items Per Second)')\n",
    "for nts, ds in zip(sim_lengths, ys):\n",
    "    plt.errorbar(\n",
    "        arrival_rates, [np.mean(y) for y in ds], yerr=[std_err(y) for y in ds], \n",
    "        label='Simulated Session Length = %d Reviews' % nts)\n",
    "plt.axvline(x=theoretical_phase_transition_threshold, label=r'Phase Transition Threshold (Theoretical)', linestyle='--')\n",
    "plt.legend(loc='best')\n",
    "plt.savefig(os.path.join('figures', 'lqn', 'throughput-vs-arrival-rate-vs-simulated-session-length.pdf'))\n",
    "plt.show()"
   ]
  },
  {
   "cell_type": "code",
   "execution_count": null,
   "metadata": {
    "collapsed": true
   },
   "outputs": [],
   "source": [
    "with open(os.path.join('results', 'throughput-vs-arrival-rate-vs-simulated-session-length.pkl'), 'wb') as f:\n",
    "    pickle.dump((arrival_rates, ys, sim_lengths), f, pickle.HIGHEST_PROTOCOL)"
   ]
  },
  {
   "cell_type": "code",
   "execution_count": null,
   "metadata": {
    "collapsed": true
   },
   "outputs": [],
   "source": []
  }
 ],
 "metadata": {
  "kernelspec": {
   "display_name": "Python 2",
   "language": "python",
   "name": "python2"
  },
  "language_info": {
   "codemirror_mode": {
    "name": "ipython",
    "version": 2
   },
   "file_extension": ".py",
   "mimetype": "text/x-python",
   "name": "python",
   "nbconvert_exporter": "python",
   "pygments_lexer": "ipython2",
   "version": "2.7.10"
  }
 },
 "nbformat": 4,
 "nbformat_minor": 0
}
