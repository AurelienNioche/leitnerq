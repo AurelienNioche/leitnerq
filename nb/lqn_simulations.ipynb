{
 "cells": [
  {
   "cell_type": "code",
   "execution_count": null,
   "metadata": {
    "collapsed": true
   },
   "outputs": [],
   "source": [
    "from __future__ import division\n",
    "\n",
    "from collections import OrderedDict\n",
    "import time\n",
    "import copy\n",
    "import pickle\n",
    "import os\n",
    "import random\n",
    "\n",
    "import pandas as pd\n",
    "import numpy as np\n",
    "\n",
    "import sched"
   ]
  },
  {
   "cell_type": "code",
   "execution_count": null,
   "metadata": {
    "collapsed": true
   },
   "outputs": [],
   "source": [
    "from matplotlib import pyplot as plt\n",
    "import seaborn as sns\n",
    "%matplotlib inline"
   ]
  },
  {
   "cell_type": "code",
   "execution_count": null,
   "metadata": {
    "collapsed": true
   },
   "outputs": [],
   "source": [
    "import matplotlib as mpl\n",
    "mpl.rc('savefig', dpi=300)\n",
    "mpl.rc('text', usetex=True)"
   ]
  },
  {
   "cell_type": "code",
   "execution_count": null,
   "metadata": {
    "collapsed": true
   },
   "outputs": [],
   "source": [
    "def sample_arrival_times(all_items, arrival_rate, start_time):\n",
    "    \"\"\"\n",
    "    Sample item arrival times for init_data['arrival_time_of_item'],\n",
    "    which gets passed to the StatelessLQNScheduler constructor\n",
    "\n",
    "    :param set[str] all_items: A set of item ids\n",
    "    :param float arrival_rate: The arrival rate for the Poisson process\n",
    "    :param int start_time: Start time (unix epoch) for the arrival process\n",
    "    \"\"\"\n",
    "\n",
    "    all_items = list(all_items)\n",
    "    random.shuffle(all_items)\n",
    "    inter_arrival_times = np.random.exponential(1 / arrival_rate, len(all_items))\n",
    "    arrival_times = start_time + np.cumsum(inter_arrival_times, axis=0).astype(int)\n",
    "    return OrderedDict(zip(all_items, arrival_times))"
   ]
  },
  {
   "cell_type": "markdown",
   "metadata": {},
   "source": [
    "Sanity check"
   ]
  },
  {
   "cell_type": "code",
   "execution_count": null,
   "metadata": {
    "collapsed": false
   },
   "outputs": [],
   "source": [
    "init_data = {\n",
    "    'arrival_time_of_item' : {0: int(time.time())},\n",
    "    'review_rates' : [0.25, 0.25, 0.25, 0.25]\n",
    "}\n",
    "\n",
    "scheduler = sched.StatefulLQNScheduler(init_data)\n",
    "\n",
    "history = []\n",
    "\n",
    "assert scheduler.next_item() == 0"
   ]
  },
  {
   "cell_type": "markdown",
   "metadata": {},
   "source": [
    "Simulations"
   ]
  },
  {
   "cell_type": "code",
   "execution_count": null,
   "metadata": {
    "collapsed": true
   },
   "outputs": [],
   "source": [
    "global_item_difficulty = 0.0076899999999998905\n",
    "using_global_difficulty = True"
   ]
  },
  {
   "cell_type": "code",
   "execution_count": null,
   "metadata": {
    "collapsed": false
   },
   "outputs": [],
   "source": [
    "num_items = 50\n",
    "difficulty_of_item = np.ones(num_items) * global_item_difficulty if using_global_difficulty else np.random.exponential(global_item_difficulty, num_items)"
   ]
  },
  {
   "cell_type": "code",
   "execution_count": null,
   "metadata": {
    "collapsed": true
   },
   "outputs": [],
   "source": [
    "arrival_rate = 0.05\n",
    "num_timesteps_in_sim = 1000"
   ]
  },
  {
   "cell_type": "code",
   "execution_count": null,
   "metadata": {
    "collapsed": false
   },
   "outputs": [],
   "source": [
    "all_items = range(num_items)\n",
    "start_time = int(time.time())\n",
    "init_data = {\n",
    "    'arrival_time_of_item' : sample_arrival_times(all_items, arrival_rate, start_time),\n",
    "    'review_rates' : [0.25, 0.25, 0.25, 0.25]\n",
    "}\n",
    "scheduler = sched.StatefulLQNScheduler(init_data)"
   ]
  },
  {
   "cell_type": "code",
   "execution_count": null,
   "metadata": {
    "collapsed": true
   },
   "outputs": [],
   "source": [
    "num_decks = len(init_data['review_rates'])"
   ]
  },
  {
   "cell_type": "code",
   "execution_count": null,
   "metadata": {
    "collapsed": false
   },
   "outputs": [],
   "source": [
    "work_rate = 0.19020740740740741\n",
    "inter_arrival_times = np.random.exponential(1 / work_rate, num_timesteps_in_sim)\n",
    "timesteps = int(time.time()) + np.cumsum(inter_arrival_times, axis=0).astype(int)"
   ]
  },
  {
   "cell_type": "code",
   "execution_count": null,
   "metadata": {
    "collapsed": false
   },
   "outputs": [],
   "source": [
    "history = []\n",
    "\n",
    "deck_of_item = {item: 1 for item in all_items}\n",
    "latest_timestamp_of_item = {item: 0 for item in all_items}\n",
    "\n",
    "for current_time in timesteps:\n",
    "    try:\n",
    "        next_item = scheduler.next_item(current_time=current_time)\n",
    "    except sched.ExhaustedError:\n",
    "        continue\n",
    "    \n",
    "    delay = current_time - latest_timestamp_of_item[next_item]\n",
    "    latest_timestamp_of_item[next_item] = current_time\n",
    "    \n",
    "    deck = deck_of_item[next_item]\n",
    "    outcome = 1 if np.random.random() < np.exp(-difficulty_of_item[next_item] * delay / deck) else 0\n",
    "    \n",
    "    deck_of_item[next_item] = max(1, deck + 2 * outcome - 1)\n",
    "\n",
    "    history.append({'item_id' : next_item, 'outcome' : outcome, 'timestamp' : current_time})\n",
    "    scheduler.update(next_item, outcome, current_time)"
   ]
  },
  {
   "cell_type": "code",
   "execution_count": null,
   "metadata": {
    "collapsed": true
   },
   "outputs": [],
   "source": [
    "df = pd.DataFrame(history)"
   ]
  },
  {
   "cell_type": "code",
   "execution_count": null,
   "metadata": {
    "collapsed": false
   },
   "outputs": [],
   "source": [
    "np.mean(df['outcome'])"
   ]
  },
  {
   "cell_type": "code",
   "execution_count": null,
   "metadata": {
    "collapsed": true
   },
   "outputs": [],
   "source": [
    "def deck_promotion_rates(init_data, history):\n",
    "    \"\"\"\n",
    "    Compute the observed rates at which items move from deck i to deck i+1\n",
    "    \n",
    "    :param pd.DataFrame history: The logs for a single user\n",
    "    :rtype: list[float]\n",
    "    :return: The average promotion rate (items per second) for each deck\n",
    "    \"\"\"\n",
    "    \n",
    "    deck_of_item = {item: 1 for item in init_data['arrival_time_of_item']}\n",
    "    num_decks = len(init_data['review_rates'])\n",
    "    num_promotions_of_deck = {deck: 0 for deck in xrange(1, num_decks + 1)}\n",
    "    \n",
    "    for ixn in history:\n",
    "        item = ixn['item_id']\n",
    "        outcome = ixn['outcome']\n",
    "        current_deck = deck_of_item[item]\n",
    "        if outcome == 1:\n",
    "            if current_deck >= 1 and current_deck <= num_decks:\n",
    "                num_promotions_of_deck[current_deck] += 1\n",
    "            deck_of_item[item] += 1\n",
    "        elif outcome == 0 and current_deck > 1:\n",
    "            deck_of_item[item] -= 1\n",
    "            \n",
    "    duration = max(ixn['timestamp'] for ixn in history) - min(ixn['timestamp'] for ixn in history)\n",
    "    promotion_rate_of_deck = {deck: (num_promotions / (1 + duration)) for deck, num_promotions in num_promotions_of_deck.iteritems()}\n",
    "    return promotion_rate_of_deck"
   ]
  },
  {
   "cell_type": "code",
   "execution_count": null,
   "metadata": {
    "collapsed": false
   },
   "outputs": [],
   "source": [
    "deck_promotion_rates(init_data, history)"
   ]
  },
  {
   "cell_type": "code",
   "execution_count": null,
   "metadata": {
    "collapsed": false
   },
   "outputs": [],
   "source": [
    "def run_sim(arrival_rate, num_items, difficulty_of_item, review_rates, work_rate, num_timesteps_in_sim, expected_delays=None):\n",
    "    all_items = range(num_items)\n",
    "    start_time = int(time.time())\n",
    "    init_data = {\n",
    "        'arrival_time_of_item' : sample_arrival_times(all_items, arrival_rate, start_time),\n",
    "        'review_rates' : review_rates\n",
    "    }\n",
    "    num_decks = len(init_data['review_rates'])\n",
    "\n",
    "    scheduler = sched.StatefulLQNScheduler(init_data)\n",
    "\n",
    "    history = []\n",
    "    deck_of_item = {item: 1 for item in all_items}\n",
    "    latest_timestamp_of_item = {item: 0 for item in all_items}\n",
    "    \n",
    "    inter_arrival_times = np.random.exponential(1 / work_rate, num_timesteps_in_sim)\n",
    "    timesteps = int(time.time()) + np.cumsum(inter_arrival_times, axis=0).astype(int)\n",
    "    for current_time in timesteps:\n",
    "        try:\n",
    "            next_item = scheduler.next_item(current_time=current_time)\n",
    "        except sched.ExhaustedError:\n",
    "            continue\n",
    "\n",
    "        deck = deck_of_item[next_item]\n",
    "        \n",
    "        if expected_delays is None:\n",
    "            delay = current_time - latest_timestamp_of_item[next_item]\n",
    "        else:\n",
    "            delay = expected_delays[deck-1]\n",
    "            \n",
    "        latest_timestamp_of_item[next_item] = current_time\n",
    "\n",
    "        outcome = 1 if np.random.random() < np.exp(-difficulty_of_item[next_item] * delay / deck) else 0\n",
    "\n",
    "        deck_of_item[next_item] = max(1, deck + 2 * outcome - 1)\n",
    "\n",
    "        history.append({'item_id' : next_item, 'outcome' : outcome, 'timestamp' : current_time})\n",
    "        scheduler.update(next_item, outcome, current_time)\n",
    "\n",
    "    if history == []:\n",
    "        return 0\n",
    "    promotion_rate_of_deck = deck_promotion_rates(init_data, history)\n",
    "    return promotion_rate_of_deck[num_decks]"
   ]
  },
  {
   "cell_type": "code",
   "execution_count": null,
   "metadata": {
    "collapsed": true
   },
   "outputs": [],
   "source": [
    "num_sim_repeats = 10\n",
    "num_decks = 5\n",
    "work_rate = 0.19020740740740741\n",
    "num_timesteps_in_sim = 500"
   ]
  },
  {
   "cell_type": "code",
   "execution_count": null,
   "metadata": {
    "collapsed": true
   },
   "outputs": [],
   "source": [
    "num_items = 50\n",
    "difficulty_of_item = np.ones(num_items) * global_item_difficulty if using_global_difficulty else np.random.exponential(global_item_difficulty, num_items)"
   ]
  },
  {
   "cell_type": "code",
   "execution_count": null,
   "metadata": {
    "collapsed": true
   },
   "outputs": [],
   "source": [
    "review_rates = 1 / np.sqrt(np.arange(1, num_decks + 1, 1))\n",
    "review_rates /= review_rates.sum()"
   ]
  },
  {
   "cell_type": "code",
   "execution_count": null,
   "metadata": {
    "collapsed": false
   },
   "outputs": [],
   "source": [
    "run_sim(1., num_items, difficulty_of_item, review_rates, work_rate, num_timesteps_in_sim)"
   ]
  },
  {
   "cell_type": "code",
   "execution_count": null,
   "metadata": {
    "collapsed": true
   },
   "outputs": [],
   "source": [
    "std_err = lambda x: np.nanstd(x) / np.sqrt(len(x))"
   ]
  },
  {
   "cell_type": "markdown",
   "metadata": {},
   "source": [
    "Compared simulations with clocked delay to simulations with expected delay"
   ]
  },
  {
   "cell_type": "code",
   "execution_count": null,
   "metadata": {
    "collapsed": true
   },
   "outputs": [],
   "source": [
    "arrival_rates = np.arange(0.001, 0.01+1e-6, 0.0005)"
   ]
  },
  {
   "cell_type": "code",
   "execution_count": null,
   "metadata": {
    "collapsed": true
   },
   "outputs": [],
   "source": [
    "# from lqn_properties.ipynb\n",
    "expected_delays = [[17.453206595871837,24.868379623154308,30.631707724309987,35.53633858640643,39.8054641266041],\n",
    "[17.696341041174712,25.31490993777629,31.276758298416564,36.37553028823838,40.78283198316578],\n",
    "[17.947881769452124,25.78067142450394,31.953797432510804,37.26043652786331,41.812311816790256],\n",
    "[18.208364768951995,26.267143435291946,32.665607540202345,38.19531662890125,42.898426132100084],\n",
    "[18.478380664451624,26.775982579619015,33.41534176715943,39.18502270643726,44.046263912657935],\n",
    "[18.758582853512998,27.30905309733018,34.206593538420954,40.235113303058135,45.26157632076017],\n",
    "[19.049697309083374,27.868464254224122,35.04348345124263,41.35199548098476,46.55089326271093],\n",
    "[19.35253449865516,28.456616864290755,35.93076904050019,42.54310435191588,47.92166651275759],\n",
    "[19.66800402593497,29.07626183577427,36.873985131833074,43.817132512491916,49.382446989802],\n",
    "[19.997132824152438,29.730574800074148,37.879625741295946,45.184326975412034,50.94310644588686],\n",
    "[20.341088056711417,30.423252620693738,38.95538339101757,46.65687886094735,52.6151176192934],\n",
    "[20.70120637006701,31.158640242385705,40.11046932202357,48.24944286621728,54.41191239832036],\n",
    "[21.07903189611681,31.941900530605306,41.356050198302995,49.97984197003195,56.34934564567404],\n",
    "[21.47636659403448,32.779246546119,42.70585675343706,51.87004256720628,58.44630453912185],\n",
    "[21.89533840561766,33.67826630244186,44.17704656829668,53.94752082746742,60.72551543490739],\n",
    "[22.33849597849283,34.64839565604334,45.79151672701947,56.2473354003538,63.21468259629606],\n",
    "[22.80894779957474,35.70161481687762,47.577787506248264,58.815000811359255,65.94796098381707],\n",
    "[23.31056095074395,36.85353870643108,49.57414388140877,61.71127038604331,68.96819946875287],\n",
    "[23.84828846657145,38.12520137131827,51.83374774747118,65.01964193568408,72.33010917973898]]"
   ]
  },
  {
   "cell_type": "code",
   "execution_count": null,
   "metadata": {
    "collapsed": false
   },
   "outputs": [],
   "source": [
    "assert len(expected_delays) == len(arrival_rates)"
   ]
  },
  {
   "cell_type": "code",
   "execution_count": null,
   "metadata": {
    "collapsed": false
   },
   "outputs": [],
   "source": [
    "ys = [[run_sim(x, num_items, difficulty_of_item, review_rates, work_rate-x, num_timesteps_in_sim) for _ in xrange(num_sim_repeats)] for x in arrival_rates]"
   ]
  },
  {
   "cell_type": "code",
   "execution_count": null,
   "metadata": {
    "collapsed": false
   },
   "outputs": [],
   "source": [
    "exp_ys = [[run_sim(x, num_items, difficulty_of_item, review_rates, work_rate-x, num_timesteps_in_sim, expected_delays=y) for _ in xrange(num_sim_repeats)] for x, y in zip(arrival_rates, expected_delays)]"
   ]
  },
  {
   "cell_type": "code",
   "execution_count": null,
   "metadata": {
    "collapsed": false
   },
   "outputs": [],
   "source": [
    "mean_ys = [np.mean(y) for y in ys]\n",
    "std_err_ys = [std_err(y) for y in ys]\n",
    "mean_exp_ys = [np.mean(y) for y in exp_ys]\n",
    "std_err_exp_ys = [std_err(y) for y in exp_ys]"
   ]
  },
  {
   "cell_type": "code",
   "execution_count": null,
   "metadata": {
    "collapsed": false
   },
   "outputs": [],
   "source": [
    "plt.xlabel(r'Arrival Rate $\\lambda_{ext}$ (Items Per Second)')\n",
    "plt.ylabel(r'Throughput $\\lambda_n$ (Items Per Second)')\n",
    "plt.errorbar(arrival_rates, mean_exp_ys, yerr=std_err_exp_ys, label='Simulated (Expected Delay)')\n",
    "plt.errorbar(arrival_rates, mean_ys, yerr=std_err_ys, label='Simulated (Clocked Delay)')\n",
    "plt.plot(np.arange(arrival_rates[0], arrival_rates[-1], 0.0001), np.arange(arrival_rates[0], arrival_rates[-1], 0.0001), '--', label='Theoretical Steady-State Behavior')\n",
    "plt.legend(loc='best')\n",
    "plt.savefig(os.path.join('figures', 'lqn', 'clocked-vs-expected-delays.pdf'))\n",
    "plt.show()"
   ]
  },
  {
   "cell_type": "code",
   "execution_count": null,
   "metadata": {
    "collapsed": false
   },
   "outputs": [],
   "source": [
    "with open(os.path.join('results', 'clocked-vs-expected-delays.pkl'), 'wb') as f:\n",
    "    pickle.dump((arrival_rates, ys, exp_ys), f, pickle.HIGHEST_PROTOCOL)"
   ]
  },
  {
   "cell_type": "markdown",
   "metadata": {},
   "source": [
    "Compare theoretical phase transition threshold to simulations"
   ]
  },
  {
   "cell_type": "code",
   "execution_count": null,
   "metadata": {
    "collapsed": true
   },
   "outputs": [],
   "source": [
    "arrival_rates = np.arange(0.001, 0.15, 0.0001)"
   ]
  },
  {
   "cell_type": "code",
   "execution_count": null,
   "metadata": {
    "collapsed": true
   },
   "outputs": [],
   "source": [
    "theoretical_phase_transition_threshold = 0.013526062011718753 # from lqn_properties.ipynb"
   ]
  },
  {
   "cell_type": "code",
   "execution_count": null,
   "metadata": {
    "collapsed": false
   },
   "outputs": [],
   "source": [
    "ys = [[run_sim(x, num_items, difficulty_of_item, review_rates, work_rate-x, num_timesteps_in_sim) for _ in xrange(num_sim_repeats)] for x in arrival_rates]"
   ]
  },
  {
   "cell_type": "code",
   "execution_count": null,
   "metadata": {
    "collapsed": false
   },
   "outputs": [],
   "source": [
    "plt.xlabel(r'Arrival Rate $\\lambda_{ext}$ (Items Per Second)')\n",
    "plt.ylabel(r'Throughput $\\lambda_n$ (Items Per Second)')\n",
    "plt.errorbar(arrival_rates, [np.mean(y) for y in ys], yerr=[std_err(y) for y in ys], label='Simulated (Clocked Delay)')\n",
    "plt.axvline(x=theoretical_phase_transition_threshold, label=r'Phase Transition Threshold (Theoretical)', linestyle='--')\n",
    "plt.legend(loc='best')\n",
    "plt.savefig(os.path.join('figures', 'lqn', 'theoretical-vs-simulated-phase-transition.pdf'))\n",
    "plt.show()"
   ]
  },
  {
   "cell_type": "code",
   "execution_count": null,
   "metadata": {
    "collapsed": true
   },
   "outputs": [],
   "source": [
    "with open(os.path.join('results', 'theoretical-vs-simulated-phase-transition.pkl'), 'wb') as f:\n",
    "    pickle.dump((arrival_rates, ys, theoretical_phase_transition_threshold), f, pickle.HIGHEST_PROTOCOL)"
   ]
  },
  {
   "cell_type": "markdown",
   "metadata": {},
   "source": [
    "Compare simulations of different lengths (i.e., transient vs. steady-state behavior)"
   ]
  },
  {
   "cell_type": "code",
   "execution_count": null,
   "metadata": {
    "collapsed": true
   },
   "outputs": [],
   "source": [
    "arrival_rates = np.arange(0.001, 0.15, 0.0001)\n",
    "sim_lengths = [500, 1000, 5000, 10000]"
   ]
  },
  {
   "cell_type": "code",
   "execution_count": null,
   "metadata": {
    "collapsed": true
   },
   "outputs": [],
   "source": [
    "num_items = 500\n",
    "difficulty_of_item = np.ones(num_items) * global_item_difficulty if using_global_difficulty else np.random.exponential(global_item_difficulty, num_items)"
   ]
  },
  {
   "cell_type": "code",
   "execution_count": null,
   "metadata": {
    "collapsed": false
   },
   "outputs": [],
   "source": [
    "ys = [[[run_sim(x, num_items, difficulty_of_item, review_rates, work_rate-x, y) for _ in xrange(num_sim_repeats)] for x in arrival_rates] for y in sim_lengths]"
   ]
  },
  {
   "cell_type": "code",
   "execution_count": null,
   "metadata": {
    "collapsed": false,
    "scrolled": false
   },
   "outputs": [],
   "source": [
    "plt.xlabel(r'Arrival Rate $\\lambda_{ext}$ (Items Per Second)')\n",
    "plt.ylabel(r'Throughput $\\lambda_n$ (Items Per Second)')\n",
    "for nts, ds in zip(sim_lengths, ys):\n",
    "    plt.errorbar(\n",
    "        arrival_rates, [np.mean(y) for y in ds], yerr=[std_err(y) for y in ds], \n",
    "        label='Simulated Session Length = %d Reviews' % nts)\n",
    "plt.axvline(x=theoretical_phase_transition_threshold, label=r'Phase Transition Threshold (Theoretical)', linestyle='--')\n",
    "plt.legend(loc='best')\n",
    "plt.savefig(os.path.join('figures', 'lqn', 'throughput-vs-arrival-rate-vs-simulated-session-length.pdf'))\n",
    "plt.show()"
   ]
  },
  {
   "cell_type": "code",
   "execution_count": null,
   "metadata": {
    "collapsed": true
   },
   "outputs": [],
   "source": [
    "with open(os.path.join('results', 'throughput-vs-arrival-rate-vs-simulated-session-length.pkl'), 'wb') as f:\n",
    "    pickle.dump((arrival_rates, ys, sim_lengths), f, pickle.HIGHEST_PROTOCOL)"
   ]
  },
  {
   "cell_type": "code",
   "execution_count": null,
   "metadata": {
    "collapsed": true
   },
   "outputs": [],
   "source": []
  }
 ],
 "metadata": {
  "kernelspec": {
   "display_name": "Python 2",
   "language": "python",
   "name": "python2"
  },
  "language_info": {
   "codemirror_mode": {
    "name": "ipython",
    "version": 2
   },
   "file_extension": ".py",
   "mimetype": "text/x-python",
   "name": "python",
   "nbconvert_exporter": "python",
   "pygments_lexer": "ipython2",
   "version": "2.7.10"
  }
 },
 "nbformat": 4,
 "nbformat_minor": 0
}
