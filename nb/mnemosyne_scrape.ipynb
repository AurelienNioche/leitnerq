{
 "cells": [
  {
   "cell_type": "code",
   "execution_count": null,
   "metadata": {
    "collapsed": true
   },
   "outputs": [],
   "source": [
    "from urllib2 import HTTPError\n",
    "\n",
    "import urllib2\n",
    "import urllib\n",
    "import os\n",
    "import shutil\n",
    "\n",
    "import zipfile"
   ]
  },
  {
   "cell_type": "code",
   "execution_count": null,
   "metadata": {
    "collapsed": true
   },
   "outputs": [],
   "source": [
    "get_html = lambda url: urllib2.urlopen(url).read()\n",
    "download_file = lambda url, fout: urllib.urlretrieve(url, fout)"
   ]
  },
  {
   "cell_type": "code",
   "execution_count": null,
   "metadata": {
    "collapsed": false,
    "scrolled": true
   },
   "outputs": [],
   "source": [
    "for i in xrange(50, 409):\n",
    "    print i\n",
    "    try:\n",
    "        raw = get_html('http://mnemosyne-proj.org/node/%d' % i)\n",
    "    except HTTPError:\n",
    "        continue\n",
    "    for s in raw.split('.cards\"')[:-1]:\n",
    "        fin = s.split('href=\"')[-1]\n",
    "        deck = fin.split('/')[-1]\n",
    "        print deck\n",
    "        download_file(fin + '.cards', os.path.join('shared_decks', deck + '.zip'))"
   ]
  },
  {
   "cell_type": "code",
   "execution_count": null,
   "metadata": {
    "collapsed": false
   },
   "outputs": [],
   "source": [
    "fs = [x for x in os.listdir('shared_decks') if '.zip' in x]\n",
    "for f in fs:\n",
    "    abs_f = os.path.join('shared_decks', f)\n",
    "    try:\n",
    "        with zipfile.ZipFile(abs_f, 'r') as g:\n",
    "            g.extractall(abs_f.replace('.zip', ''))\n",
    "            os.rename(os.path.join(abs_f.replace('.zip', ''), 'cards.xml'), abs_f.replace('.zip', '.xml'))\n",
    "            shutil.rmtree(abs_f.replace('.zip', ''))\n",
    "    except:\n",
    "        pass"
   ]
  },
  {
   "cell_type": "code",
   "execution_count": null,
   "metadata": {
    "collapsed": true
   },
   "outputs": [],
   "source": []
  }
 ],
 "metadata": {
  "kernelspec": {
   "display_name": "Python 2",
   "language": "python",
   "name": "python2"
  },
  "language_info": {
   "codemirror_mode": {
    "name": "ipython",
    "version": 2
   },
   "file_extension": ".py",
   "mimetype": "text/x-python",
   "name": "python",
   "nbconvert_exporter": "python",
   "pygments_lexer": "ipython2",
   "version": "2.7.10"
  }
 },
 "nbformat": 4,
 "nbformat_minor": 0
}
