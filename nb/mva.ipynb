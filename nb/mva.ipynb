{
 "cells": [
  {
   "cell_type": "code",
   "execution_count": null,
   "metadata": {
    "collapsed": false
   },
   "outputs": [],
   "source": [
    "from __future__ import division\n",
    "\n",
    "from scipy import optimize\n",
    "import numpy as np"
   ]
  },
  {
   "cell_type": "code",
   "execution_count": null,
   "metadata": {
    "collapsed": false
   },
   "outputs": [],
   "source": [
    "from matplotlib import pyplot as plt\n",
    "import seaborn as sns\n",
    "%matplotlib inline"
   ]
  },
  {
   "cell_type": "code",
   "execution_count": null,
   "metadata": {
    "collapsed": true
   },
   "outputs": [],
   "source": [
    "import matplotlib as mpl\n",
    "mpl.rc('savefig', dpi=300)\n",
    "mpl.rc('text', usetex=True)"
   ]
  },
  {
   "cell_type": "code",
   "execution_count": null,
   "metadata": {
    "collapsed": true
   },
   "outputs": [],
   "source": [
    "renormalize = lambda x: x / x.sum()"
   ]
  },
  {
   "cell_type": "code",
   "execution_count": null,
   "metadata": {
    "collapsed": false
   },
   "outputs": [],
   "source": [
    "num_decks = 5\n",
    "review_rate_budget = 0.1902\n",
    "arrival_rate = 0.015\n",
    "difficulty = 0.0077\n",
    "capacity = 100\n",
    "service_rates = np.append(renormalize(1 / np.sqrt(np.arange(1, num_decks + 1, 1))) * review_rate_budget, arrival_rate)"
   ]
  },
  {
   "cell_type": "code",
   "execution_count": null,
   "metadata": {
    "collapsed": false
   },
   "outputs": [],
   "source": [
    "def mva_throughput(init_throughput, service_rates=service_rates, capacity=capacity):\n",
    "    P = np.zeros((num_decks + 1, num_decks + 1))\n",
    "    for i in xrange(num_decks):\n",
    "        P[i, i + 1] = (service_rates[i] - init_throughput) / (service_rates[i] - init_throughput + difficulty / (i + 1))\n",
    "    P[num_decks, 0] = 1\n",
    "    P[0, 0] = 1 - (service_rates[0] - init_throughput) / (service_rates[0] - init_throughput + difficulty)\n",
    "    for i in xrange(1, num_decks):\n",
    "        P[i, i - 1] = 1 - (service_rates[i] - init_throughput) / (service_rates[i] - init_throughput + difficulty / (i + 1))\n",
    "                \n",
    "    v = renormalize(np.linalg.eig(P.T)[1][:, 0]).astype(float)\n",
    "        \n",
    "    L = np.zeros(num_decks + 1)\n",
    "    for m in xrange(1, capacity + 1):\n",
    "        W = (L + 1) / service_rates\n",
    "        actual_throughput = m / W.dot(v)\n",
    "        L = actual_throughput * W * v\n",
    "\n",
    "    return actual_throughput"
   ]
  },
  {
   "cell_type": "code",
   "execution_count": null,
   "metadata": {
    "collapsed": true
   },
   "outputs": [],
   "source": [
    "max_throughput = service_rates.min()\n",
    "init_throughputs = np.arange(0, max_throughput, max_throughput / 100)"
   ]
  },
  {
   "cell_type": "code",
   "execution_count": null,
   "metadata": {
    "collapsed": false,
    "scrolled": true
   },
   "outputs": [],
   "source": [
    "actual_throughputs = [mva_throughput(x) for x in init_throughputs]"
   ]
  },
  {
   "cell_type": "code",
   "execution_count": null,
   "metadata": {
    "collapsed": false
   },
   "outputs": [],
   "source": [
    "plt.xlabel(r'$\\lambda_{in}$')\n",
    "plt.ylabel(r'$\\lambda_{out}$')\n",
    "mx = max(max(init_throughputs), max(actual_throughputs))\n",
    "mx = 1.1 * mx\n",
    "plt.xlim([0, mx])\n",
    "plt.ylim([0, mx])\n",
    "plt.plot([0, mx], [0, mx], linestyle='--')\n",
    "plt.scatter(init_throughputs, actual_throughputs, linewidth=0)\n",
    "plt.show()"
   ]
  },
  {
   "cell_type": "code",
   "execution_count": null,
   "metadata": {
    "collapsed": true
   },
   "outputs": [],
   "source": [
    "def mva_fixpoint(capacity, service_rates=service_rates):\n",
    "    try:\n",
    "        return optimize.fixed_point(lambda x: mva_throughput(x, service_rates=service_rates, capacity=capacity), 0)\n",
    "    except:\n",
    "        return np.nan"
   ]
  },
  {
   "cell_type": "code",
   "execution_count": null,
   "metadata": {
    "collapsed": true
   },
   "outputs": [],
   "source": [
    "capacities = np.arange(1, 1000, 10)"
   ]
  },
  {
   "cell_type": "code",
   "execution_count": null,
   "metadata": {
    "collapsed": false
   },
   "outputs": [],
   "source": [
    "throughputs = [mva_fixpoint(x) for x in capacities]"
   ]
  },
  {
   "cell_type": "code",
   "execution_count": null,
   "metadata": {
    "collapsed": false
   },
   "outputs": [],
   "source": [
    "plt.xlabel('Capacity')\n",
    "plt.ylabel('Throughput')\n",
    "plt.scatter(capacities, throughputs)\n",
    "plt.show()"
   ]
  },
  {
   "cell_type": "code",
   "execution_count": null,
   "metadata": {
    "collapsed": true
   },
   "outputs": [],
   "source": []
  }
 ],
 "metadata": {
  "kernelspec": {
   "display_name": "Python 2",
   "language": "python",
   "name": "python2"
  },
  "language_info": {
   "codemirror_mode": {
    "name": "ipython",
    "version": 2
   },
   "file_extension": ".py",
   "mimetype": "text/x-python",
   "name": "python",
   "nbconvert_exporter": "python",
   "pygments_lexer": "ipython2",
   "version": "2.7.10"
  }
 },
 "nbformat": 4,
 "nbformat_minor": 0
}
