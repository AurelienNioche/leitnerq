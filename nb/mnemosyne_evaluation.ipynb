{
 "cells": [
  {
   "cell_type": "code",
   "execution_count": null,
   "metadata": {
    "collapsed": false
   },
   "outputs": [],
   "source": [
    "from __future__ import division\n",
    "\n",
    "import pickle\n",
    "import os\n",
    "\n",
    "from sklearn import metrics\n",
    "import numpy as np\n",
    "\n",
    "from lentil import evaluate\n",
    "from lentil import models\n",
    "\n",
    "import mem"
   ]
  },
  {
   "cell_type": "code",
   "execution_count": null,
   "metadata": {
    "collapsed": true
   },
   "outputs": [],
   "source": [
    "from matplotlib import pyplot as plt\n",
    "import seaborn as sns\n",
    "%matplotlib inline"
   ]
  },
  {
   "cell_type": "code",
   "execution_count": null,
   "metadata": {
    "collapsed": true
   },
   "outputs": [],
   "source": [
    "import matplotlib as mpl\n",
    "mpl.rc('savefig', dpi=300)\n",
    "mpl.rc('text', usetex=True)\n",
    "mpl.rc('text.latex', preamble='\\usepackage{amsfonts}')"
   ]
  },
  {
   "cell_type": "code",
   "execution_count": null,
   "metadata": {
    "collapsed": true
   },
   "outputs": [],
   "source": [
    "import matplotlib.lines as mlines"
   ]
  },
  {
   "cell_type": "code",
   "execution_count": null,
   "metadata": {
    "collapsed": true
   },
   "outputs": [],
   "source": [
    "import logging\n",
    "logging.getLogger().setLevel(logging.DEBUG)"
   ]
  },
  {
   "cell_type": "code",
   "execution_count": null,
   "metadata": {
    "collapsed": false
   },
   "outputs": [],
   "source": [
    "with open(os.path.join('data', 'mnemosyne_history.pkl'), 'rb') as f:\n",
    "    history = pickle.load(f)"
   ]
  },
  {
   "cell_type": "markdown",
   "metadata": {},
   "source": [
    "Setup the IRT benchmark models and memory models"
   ]
  },
  {
   "cell_type": "code",
   "execution_count": null,
   "metadata": {
    "collapsed": true
   },
   "outputs": [],
   "source": [
    "def build_1pl_irt_model(history, filtered_history, split_history=None):\n",
    "    model = models.OneParameterLogisticModel(\n",
    "        filtered_history, select_regularization_constant=True, name_of_user_id='user_id')\n",
    "    model.fit()\n",
    "    return model\n",
    "\n",
    "def build_2pl_irt_model(history, filtered_history, split_history=None):\n",
    "    model = models.TwoParameterLogisticModel(\n",
    "        filtered_history, select_regularization_constant=True, name_of_user_id='user_id')\n",
    "    model.fit()\n",
    "    return model\n",
    "\n",
    "def build_student_biased_coin_model(history, filtered_history, split_history=None):\n",
    "    model = models.StudentBiasedCoinModel(history, filtered_history, name_of_user_id='user_id')\n",
    "    model.fit()\n",
    "    return model\n",
    "\n",
    "def build_assessment_biased_coin_model(history, filtered_history, split_history=None):\n",
    "    model = models.AssessmentBiasedCoinModel(history, filtered_history)\n",
    "    model.fit()\n",
    "    return model\n",
    "\n",
    "def meta_build_efc_model(\n",
    "    strength_model='deck', using_delay=True, \n",
    "    using_global_difficulty=False, debug_mode_on=True):\n",
    "    def build_efc_model(history, filtered_history, split_history=None):\n",
    "        model = mem.EFCModel(\n",
    "            filtered_history, strength_model=strength_model, using_delay=using_delay, \n",
    "            using_global_difficulty=using_global_difficulty, debug_mode_on=debug_mode_on)\n",
    "        model.fit(\n",
    "            learning_rate=(0.5 if using_global_difficulty else 5000.), \n",
    "            ftol=(1e-7 if using_global_difficulty else 1e-4))\n",
    "        return model\n",
    "    return build_efc_model\n",
    "\n",
    "def meta_build_logistic_regression_model(C=1.0):\n",
    "    def build_logistic_regression_model(history, filtered_history, split_history=None):\n",
    "        model = mem.LogisticRegressionModel(filtered_history)\n",
    "        model.fit(C=C)\n",
    "        return model\n",
    "    return build_logistic_regression_model"
   ]
  },
  {
   "cell_type": "code",
   "execution_count": null,
   "metadata": {
    "collapsed": false
   },
   "outputs": [],
   "source": [
    "model_builders = {\n",
    "    '0PL IRT (students)' : build_student_biased_coin_model,\n",
    "    '0PL IRT (assessments)' : build_assessment_biased_coin_model,\n",
    "    '1PL IRT' : build_1pl_irt_model,\n",
    "    #'2PL IRT' : build_2pl_irt_model,\n",
    "    'EFC G/D/N' : meta_build_efc_model(strength_model='nreps', using_delay=True, using_global_difficulty=True),\n",
    "    'EFC G/D/1' : meta_build_efc_model(strength_model=None, using_delay=True, using_global_difficulty=True),\n",
    "    'EFC G/1/N' : meta_build_efc_model(strength_model='nreps', using_delay=False, using_global_difficulty=True),\n",
    "    'EFC G/D/Q' : meta_build_efc_model(strength_model='deck', using_delay=True, using_global_difficulty=True),\n",
    "    'EFC G/1/Q' : meta_build_efc_model(strength_model='deck', using_delay=False, using_global_difficulty=True),\n",
    "    'EFC I/D/N' : meta_build_efc_model(strength_model='nreps', using_delay=True, using_global_difficulty=False),\n",
    "    'EFC I/D/1' : meta_build_efc_model(strength_model=None, using_delay=True, using_global_difficulty=False),\n",
    "    'EFC I/1/N' : meta_build_efc_model(strength_model='nreps', using_delay=False, using_global_difficulty=False),\n",
    "    'EFC I/D/Q' : meta_build_efc_model(strength_model='deck', using_delay=True, using_global_difficulty=False),\n",
    "    'EFC I/1/Q' : meta_build_efc_model(strength_model='deck', using_delay=False, using_global_difficulty=False),\n",
    "    'LR C=1' : meta_build_logistic_regression_model(C=1.),\n",
    "    'LR C=0.1' : meta_build_logistic_regression_model(C=0.1),\n",
    "    'LR C=10' : meta_build_logistic_regression_model(C=10.)\n",
    "}"
   ]
  },
  {
   "cell_type": "code",
   "execution_count": null,
   "metadata": {
    "collapsed": false
   },
   "outputs": [],
   "source": [
    "print \"Number of models = %d\" % (len(model_builders))\n",
    "print '\\n'.join(model_builders.keys())"
   ]
  },
  {
   "cell_type": "markdown",
   "metadata": {},
   "source": [
    "Perform the evaluations"
   ]
  },
  {
   "cell_type": "code",
   "execution_count": null,
   "metadata": {
    "collapsed": false,
    "scrolled": false
   },
   "outputs": [],
   "source": [
    "results = evaluate.cross_validated_auc(\n",
    "    model_builders,\n",
    "    history,\n",
    "    num_folds=10,\n",
    "    random_truncations=True)"
   ]
  },
  {
   "cell_type": "code",
   "execution_count": null,
   "metadata": {
    "collapsed": false
   },
   "outputs": [],
   "source": [
    "# dump results to file\n",
    "with open(os.path.join('results', 'mnemosyne_lesion_analysis.pkl'), 'wb') as f:\n",
    "    pickle.dump(results, f, pickle.HIGHEST_PROTOCOL)"
   ]
  },
  {
   "cell_type": "code",
   "execution_count": null,
   "metadata": {
    "collapsed": false
   },
   "outputs": [],
   "source": [
    "# load results from file, replacing current results\n",
    "with open(os.path.join('results', 'mnemosyne_lesion_analysis.pkl'), 'rb') as f:\n",
    "    results = pickle.load(f)"
   ]
  },
  {
   "cell_type": "code",
   "execution_count": null,
   "metadata": {
    "collapsed": true
   },
   "outputs": [],
   "source": [
    "df = history.data"
   ]
  },
  {
   "cell_type": "markdown",
   "metadata": {},
   "source": [
    "First, select the regularization constant for the logistic regression benchmark model"
   ]
  },
  {
   "cell_type": "code",
   "execution_count": null,
   "metadata": {
    "collapsed": false
   },
   "outputs": [],
   "source": [
    "print 'Train AUC\\tTest AUC\\tValidation AUC\\t\\tModel'\n",
    "for k in ['LR C=0.1', 'LR C=1', 'LR C=10']:\n",
    "    try:\n",
    "        train_auc = results.training_auc_mean(k)\n",
    "        val_auc = results.validation_auc_mean(k)\n",
    "        val_auc_stderr = results.validation_auc_stderr(k)\n",
    "        test_auc = results.test_auc(k)\n",
    "    except KeyError:\n",
    "        continue\n",
    "    print '%0.3f\\t\\t%0.3f\\t\\t%0.3f +/- %0.3f\\t\\t%s' % (train_auc, test_auc, val_auc, val_auc_stderr, k.replace('Model ', ''))"
   ]
  },
  {
   "cell_type": "code",
   "execution_count": null,
   "metadata": {
    "collapsed": false
   },
   "outputs": [],
   "source": [
    "recall_prob_eqns = [\n",
    "    r'$\\phi(\\theta_j)$',\n",
    "    r'$\\phi(-\\beta_i)$',\n",
    "    r'$\\phi(\\theta_j - \\beta_i)$',\n",
    "    r'$\\phi(\\beta \\cdot x)$',\n",
    "    r'$\\exp{(-\\theta \\cdot d_{ij} / n_{ij})}$',\n",
    "    r'$\\exp{(-\\theta \\cdot d_{ij})}$',\n",
    "    r'$\\exp{(-\\theta / n_{ij})}$',\n",
    "    r'$\\exp{(-\\theta \\cdot d_{ij} / q_{ij})}$',\n",
    "    r'$\\exp{(-\\theta / q_{ij})}$',\n",
    "    r'$\\exp{(-\\theta_i \\cdot d_{ij} / n_{ij})}$',\n",
    "    r'$\\exp{(-\\theta_i \\cdot d_{ij})}$',\n",
    "    r'$\\exp{(-\\theta_i / n_{ij})}$',\n",
    "    r'$\\exp{(-\\theta_i \\cdot d_{ij} / q_{ij})}$',\n",
    "    r'$\\exp{(-\\theta_i / q_{ij})}$'\n",
    "]\n",
    "\n",
    "model_names = [\n",
    "    '0PL IRT (students)',\n",
    "    '0PL IRT (assessments)',\n",
    "    '1PL IRT',\n",
    "    'LR C=1',\n",
    "    'EFC G/D/N',\n",
    "    'EFC G/D/1',\n",
    "    'EFC G/1/N',\n",
    "    'EFC G/D/Q',\n",
    "    'EFC G/1/Q',\n",
    "    'EFC I/D/N',\n",
    "    'EFC I/D/1',\n",
    "    'EFC I/1/N',\n",
    "    'EFC I/D/Q',\n",
    "    'EFC I/1/Q'\n",
    "]\n",
    "\n",
    "assert len(recall_prob_eqns) == len(model_names)"
   ]
  },
  {
   "cell_type": "markdown",
   "metadata": {},
   "source": [
    "Dump all the evaluation results into a table"
   ]
  },
  {
   "cell_type": "code",
   "execution_count": null,
   "metadata": {
    "collapsed": false
   },
   "outputs": [],
   "source": [
    "print 'Train AUC\\tTest AUC\\tValidation AUC\\t\\tModel'\n",
    "for k in model_names:\n",
    "    try:\n",
    "        train_auc = results.training_auc_mean(k)\n",
    "        val_auc = results.validation_auc_mean(k)\n",
    "        val_auc_stderr = results.validation_auc_stderr(k)\n",
    "        test_auc = results.test_auc(k)\n",
    "    except KeyError:\n",
    "        continue\n",
    "    print '%0.3f\\t\\t%0.3f\\t\\t%0.3f +/- %0.3f\\t\\t%s' % (train_auc, test_auc, val_auc, val_auc_stderr, k)"
   ]
  },
  {
   "cell_type": "markdown",
   "metadata": {},
   "source": [
    "Make a boxplot and scatterplot for the validation/test AUCs"
   ]
  },
  {
   "cell_type": "code",
   "execution_count": null,
   "metadata": {
    "collapsed": false
   },
   "outputs": [],
   "source": [
    "fig, ax1 = plt.subplots()\n",
    "\n",
    "model_idxes = [5, 6, 8, 10, 11, 13]\n",
    "\n",
    "sns.set_style('dark')\n",
    "ax2 = ax1.twiny()\n",
    "ax2.set_xlabel('Model')\n",
    "ax2.set_xticks(range(1, len(model_idxes) + 1))\n",
    "ax2.set_xticklabels(model_idxes)\n",
    "ax2.set_xlim([0.5, len(model_idxes) + .5])\n",
    "\n",
    "sns.set_style('darkgrid')\n",
    "ax1.set_xlabel(r'$\\log{(\\mathbb{P}[recall])}$')\n",
    "ax1.boxplot([results.validation_aucs(model_names[i-1]) for i in model_idxes])\n",
    "ax1.scatter(\n",
    "    range(1, len(model_idxes) + 1),\n",
    "    [results.test_auc(model_names[i-1]) for i in model_idxes],\n",
    "    color='orange', s=100)\n",
    "\n",
    "ax1.set_xticks(range(1, len(model_idxes) + 1))\n",
    "ax1.set_xticklabels(\n",
    "    [recall_prob_eqns[i-1].replace('\\exp', '').replace(\n",
    "            '(', '').replace(')', '') for i in model_idxes])\n",
    "ax1.set_xlim([0.5, len(model_idxes) + .5])\n",
    "\n",
    "orange_circle = mlines.Line2D([], [], color='orange', marker='o', label='Test')\n",
    "red_line = mlines.Line2D([], [], color='red', marker='_', label='Validation')\n",
    "plt.legend(handles=[red_line, orange_circle], loc='best')\n",
    "\n",
    "ax1.set_ylabel('AUC')\n",
    "\n",
    "plt.savefig(os.path.join('figures', 'mnemosyne', 'auc-boxplots-memory-strengths.pdf'), bbox_inches='tight')\n",
    "plt.show()"
   ]
  },
  {
   "cell_type": "code",
   "execution_count": null,
   "metadata": {
    "collapsed": false
   },
   "outputs": [],
   "source": [
    "model_idxes = range(1, 15)\n",
    "\n",
    "plt.xlabel('Model')\n",
    "plt.boxplot([results.validation_aucs(model_names[i-1]) for i in model_idxes])\n",
    "plt.scatter(\n",
    "    range(1, len(model_idxes) + 1),\n",
    "    [results.test_auc(model_names[i-1]) for i in model_idxes],\n",
    "    color='orange', s=100)\n",
    "\n",
    "plt.xlim([0.5, len(model_idxes) + .5])\n",
    "\n",
    "orange_circle = mlines.Line2D([], [], color='orange', marker='o', label='Test')\n",
    "red_line = mlines.Line2D([], [], color='red', marker='_', label='Validation')\n",
    "plt.legend(handles=[red_line, orange_circle], loc='best')\n",
    "\n",
    "plt.ylabel('AUC')\n",
    "\n",
    "plt.savefig(os.path.join('figures', 'mnemosyne', 'auc-boxplots-all.pdf'), bbox_inches='tight')\n",
    "plt.show()"
   ]
  },
  {
   "cell_type": "markdown",
   "metadata": {},
   "source": [
    "Compute validation AUCs for separate bins of data (separated by deck)"
   ]
  },
  {
   "cell_type": "code",
   "execution_count": null,
   "metadata": {
    "collapsed": false
   },
   "outputs": [],
   "source": [
    "def compute_auc(y_trues, probas_pred):\n",
    "    assert not any(np.isnan(x) for x in probas_pred)\n",
    "    try:\n",
    "        fpr, tpr, thresholds = metrics.roc_curve(y_trues, probas_pred, pos_label=1)\n",
    "        return metrics.auc(fpr, tpr)\n",
    "    except:\n",
    "        return np.nan"
   ]
  },
  {
   "cell_type": "code",
   "execution_count": null,
   "metadata": {
    "collapsed": false
   },
   "outputs": [],
   "source": [
    "decks_of_val_ixns = [df['deck'].ix[idxes].values for idxes, y_trues, probas_pred in results.val_ixn_data]"
   ]
  },
  {
   "cell_type": "code",
   "execution_count": null,
   "metadata": {
    "collapsed": false
   },
   "outputs": [],
   "source": [
    "num_bins = 9\n",
    "rg = (1, 10)\n",
    "hist, bin_edges = np.histogram([y for x in decks_of_val_ixns for y in x], bins=num_bins, range=rg)"
   ]
  },
  {
   "cell_type": "code",
   "execution_count": null,
   "metadata": {
    "collapsed": false
   },
   "outputs": [],
   "source": [
    "s_of_row_idx = {}\n",
    "for row_idx in xrange(1, 15):\n",
    "    m = model_names[row_idx - 1]\n",
    "    s_of_row_idx[row_idx] = [[compute_auc(\n",
    "                [p for p, q in zip(y_trues, vf) if q>=x and (q<y or (bidx==len(bin_edges)-2 and q==y))], \n",
    "                [p for p, q in zip(probas_pred[m], vf) if q>=x and (q<y or (bidx==len(bin_edges)-2 and q==y))]) \\\n",
    "                              for (_, y_trues, probas_pred), vf in zip(results.val_ixn_data, decks_of_val_ixns)] \\\n",
    "                             for bidx, (x, y) in enumerate(zip(bin_edges[:-1], bin_edges[1:]))]"
   ]
  },
  {
   "cell_type": "code",
   "execution_count": null,
   "metadata": {
    "collapsed": true
   },
   "outputs": [],
   "source": [
    "t = [(x+y)/2 for x, y in zip(bin_edges[:-1], bin_edges[1:])]\n",
    "color_of_row = {3: 'black', 5: 'blue', 7: 'blue', 8: 'deepskyblue', 9: 'deepskyblue', 10: 'red', 12: 'red', 13: 'orange', 14: 'orange'}\n",
    "linestyle_of_row = {3: '-', 5: '-', 7: '--', 8: '-', 9: '--', 10: '-', 12: '--', 13: '-', 14: '--'}"
   ]
  },
  {
   "cell_type": "code",
   "execution_count": null,
   "metadata": {
    "collapsed": false,
    "scrolled": false
   },
   "outputs": [],
   "source": [
    "fig, ax1 = plt.subplots()\n",
    "\n",
    "sns.set_style('dark')\n",
    "ax2 = ax1.twinx()\n",
    "ax2.bar(bin_edges[:-1], hist, [y-x for x, y in zip(bin_edges[:-1], bin_edges[1:])], color='gray', alpha=0.5, linewidth=0)\n",
    "ax2.set_ylabel('Frequency (number of interactions)')\n",
    "\n",
    "sns.set_style('darkgrid')\n",
    "lines = []\n",
    "for row_idx in [3, 5, 7, 8, 9, 10, 12, 13, 14]:\n",
    "    m = model_names[row_idx-1]\n",
    "    s1 = s_of_row_idx[row_idx]\n",
    "    l1 = ax1.errorbar(\n",
    "        t, [np.nanmean(z) for z in s1], label=r'Model %d: %s' % (row_idx, recall_prob_eqns[row_idx-1]), \n",
    "        yerr=[np.nanstd(z)/np.sqrt(len(z)) for z in s1], linestyle=linestyle_of_row[row_idx], \n",
    "        color=color_of_row[row_idx])\n",
    "    lines.append(l1)\n",
    "ax1.set_xlabel('Deck ($q_{ij}$)')\n",
    "ax1.set_ylabel('Validation AUC')\n",
    "ax1.set_ylim([0.1, 0.9])\n",
    "\n",
    "first_legend = plt.legend(handles=lines[:5], loc='lower center', bbox_to_anchor=(0.25, -0.5))\n",
    "plt.gca().add_artist(first_legend)\n",
    "plt.legend(handles=lines[5:], loc='lower center', bbox_to_anchor=(0.75, -0.5))\n",
    "\n",
    "plt.savefig(os.path.join('figures', 'mnemosyne', 'auc-vs-deck.pdf'), bbox_inches='tight')\n",
    "plt.show()"
   ]
  },
  {
   "cell_type": "code",
   "execution_count": null,
   "metadata": {
    "collapsed": true
   },
   "outputs": [],
   "source": []
  }
 ],
 "metadata": {
  "kernelspec": {
   "display_name": "Python 2",
   "language": "python",
   "name": "python2"
  },
  "language_info": {
   "codemirror_mode": {
    "name": "ipython",
    "version": 2
   },
   "file_extension": ".py",
   "mimetype": "text/x-python",
   "name": "python",
   "nbconvert_exporter": "python",
   "pygments_lexer": "ipython2",
   "version": "2.7.10"
  }
 },
 "nbformat": 4,
 "nbformat_minor": 0
}
