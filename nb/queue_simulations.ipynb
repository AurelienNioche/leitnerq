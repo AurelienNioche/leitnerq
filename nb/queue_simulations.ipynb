{
 "cells": [
  {
   "cell_type": "code",
   "execution_count": null,
   "metadata": {
    "collapsed": true
   },
   "outputs": [],
   "source": [
    "from __future__ import division\n",
    "\n",
    "from Queue import Queue, LifoQueue\n",
    "\n",
    "import numpy as np"
   ]
  },
  {
   "cell_type": "code",
   "execution_count": null,
   "metadata": {
    "collapsed": true
   },
   "outputs": [],
   "source": [
    "from matplotlib import pyplot as plt\n",
    "import seaborn as sns\n",
    "%matplotlib inline"
   ]
  },
  {
   "cell_type": "code",
   "execution_count": null,
   "metadata": {
    "collapsed": true
   },
   "outputs": [],
   "source": [
    "import matplotlib as mpl\n",
    "mpl.rc('savefig', dpi=300)\n",
    "mpl.rc('text', usetex=True)"
   ]
  },
  {
   "cell_type": "markdown",
   "metadata": {},
   "source": [
    "With feedback\n",
    "-------------\n",
    "\n",
    "In the steady state, we have the following traffic equation.\n",
    "$$ \\lambda_{ext} + (1 - \\mathbb{E}[e^{-\\theta D}])\\lambda = \\lambda < \\mu $$  \n",
    "\n",
    "Assuming a FIFO service discipline, we can approximate delay as $D \\sim Exponential(\\mu - \\lambda)$. Noticing that the expected recall rate is the moment-generating function for $D$,\n",
    "\n",
    "$$ \\mathbb{E}[e^{-\\theta D}] = \\frac{\\mu - \\lambda}{\\mu - \\lambda + \\theta} $$  \n",
    "\n",
    "Plugging this expression into the traffic equation,\n",
    "\n",
    "$$ \\lambda = \\frac{\\mu - \\lambda + \\theta}{\\mu - \\lambda} \\cdot \\lambda_{ext} < \\mu $$  \n",
    "Without feedback\n",
    "----------------\n",
    "\n",
    "$$ \\lambda_{ext} = \\lambda < \\mu $$  "
   ]
  },
  {
   "cell_type": "code",
   "execution_count": null,
   "metadata": {
    "collapsed": true
   },
   "outputs": [],
   "source": [
    "T = 100000"
   ]
  },
  {
   "cell_type": "code",
   "execution_count": null,
   "metadata": {
    "collapsed": true
   },
   "outputs": [],
   "source": [
    "theta = 0.1\n",
    "arrival_rate = 10\n",
    "service_rate = 13"
   ]
  },
  {
   "cell_type": "code",
   "execution_count": null,
   "metadata": {
    "collapsed": true
   },
   "outputs": [],
   "source": [
    "using_feedback = True"
   ]
  },
  {
   "cell_type": "code",
   "execution_count": null,
   "metadata": {
    "collapsed": false
   },
   "outputs": [],
   "source": [
    "if using_feedback:\n",
    "    flow_rate = (service_rate + arrival_rate - np.sqrt((service_rate + arrival_rate)**2 - 4 * arrival_rate * (service_rate + theta))) / 2\n",
    "else:\n",
    "    flow_rate = arrival_rate\n",
    "print flow_rate"
   ]
  },
  {
   "cell_type": "code",
   "execution_count": null,
   "metadata": {
    "collapsed": false
   },
   "outputs": [],
   "source": [
    "if using_feedback:\n",
    "    expected_recall_rate = (service_rate - flow_rate) / (service_rate - flow_rate + theta)\n",
    "else:\n",
    "    expected_recall_rate = 1\n",
    "print expected_recall_rate"
   ]
  },
  {
   "cell_type": "code",
   "execution_count": null,
   "metadata": {
    "collapsed": false
   },
   "outputs": [],
   "source": [
    "assert service_rate > flow_rate / expected_recall_rate"
   ]
  },
  {
   "cell_type": "code",
   "execution_count": null,
   "metadata": {
    "collapsed": true
   },
   "outputs": [],
   "source": [
    "using_clocked_delays = True\n",
    "using_fifo = True"
   ]
  },
  {
   "cell_type": "code",
   "execution_count": null,
   "metadata": {
    "collapsed": false
   },
   "outputs": [],
   "source": [
    "q = Queue() if using_fifo else LifoQueue()\n",
    "exits = []\n",
    "delays = []"
   ]
  },
  {
   "cell_type": "code",
   "execution_count": null,
   "metadata": {
    "collapsed": false
   },
   "outputs": [],
   "source": [
    "t = 0\n",
    "for _ in xrange(T):\n",
    "    t += np.random.exponential(1 / (arrival_rate + service_rate))\n",
    "    if np.random.random() < arrival_rate / (arrival_rate + service_rate):\n",
    "        q.put(t)\n",
    "    elif not q.empty():\n",
    "        if using_clocked_delays:\n",
    "            delay = t - q.get()\n",
    "        else:\n",
    "            q.get()\n",
    "            delay = np.random.exponential(1 / (service_rate - flow_rate))\n",
    "        delays.append(delay)\n",
    "        if np.random.random() < np.exp(-theta*delay):\n",
    "            exits.append(t)\n",
    "        elif using_feedback:\n",
    "            q.put(t)"
   ]
  },
  {
   "cell_type": "code",
   "execution_count": null,
   "metadata": {
    "collapsed": false
   },
   "outputs": [],
   "source": [
    "plt.xlabel('Simulated Delay')\n",
    "plt.ylabel('Frequency (Number of Interactions)')\n",
    "plt.hist(delays, bins=20, linewidth=0, alpha=0.5)\n",
    "plt.show()"
   ]
  },
  {
   "cell_type": "code",
   "execution_count": null,
   "metadata": {
    "collapsed": false
   },
   "outputs": [],
   "source": [
    "w = np.zeros(int(np.ceil(exits[-1])))\n",
    "for x in exits:\n",
    "    w[int(x)] += 1"
   ]
  },
  {
   "cell_type": "code",
   "execution_count": null,
   "metadata": {
    "collapsed": false,
    "scrolled": true
   },
   "outputs": [],
   "source": [
    "s = np.random.poisson(flow_rate * expected_recall_rate, 100000)"
   ]
  },
  {
   "cell_type": "code",
   "execution_count": null,
   "metadata": {
    "collapsed": false
   },
   "outputs": [],
   "source": [
    "plt.xlabel('Number of Exits in 1-Unit Window')\n",
    "plt.ylabel('Frequency (Number of Windows)')\n",
    "plt.hist(s, bins=20, alpha=0.5, linewidth=0, normed=True, label=r'Poisson($\\lambda = %0.3f$)' % (flow_rate * expected_recall_rate))\n",
    "plt.hist(w, bins=20, alpha=0.5, linewidth=0, normed=True, label='Simulated')\n",
    "plt.legend(loc='best')\n",
    "plt.show()"
   ]
  },
  {
   "cell_type": "code",
   "execution_count": null,
   "metadata": {
    "collapsed": true
   },
   "outputs": [],
   "source": [
    "ex = np.array(exits)\n",
    "interarrival_times = ex[1:] - ex[:-1]"
   ]
  },
  {
   "cell_type": "code",
   "execution_count": null,
   "metadata": {
    "collapsed": false
   },
   "outputs": [],
   "source": [
    "s = np.random.exponential(1 / (flow_rate * expected_recall_rate), 100000)"
   ]
  },
  {
   "cell_type": "code",
   "execution_count": null,
   "metadata": {
    "collapsed": false
   },
   "outputs": [],
   "source": [
    "plt.xlabel('Inter-Arrival Time')\n",
    "plt.ylabel('Frequency (Number of Exits)')\n",
    "plt.hist(interarrival_times, bins=20, alpha=0.5, linewidth=0, normed=True, label=r'Exponential($\\lambda = %0.3f$)' % (flow_rate * expected_recall_rate))\n",
    "plt.hist(interarrival_times, bins=20, alpha=0.5, linewidth=0, normed=True, label='Simulated')\n",
    "plt.legend(loc='best')\n",
    "plt.show()"
   ]
  },
  {
   "cell_type": "code",
   "execution_count": null,
   "metadata": {
    "collapsed": true
   },
   "outputs": [],
   "source": [
    "scaling_factors = np.arange(1, 100, 2)"
   ]
  },
  {
   "cell_type": "code",
   "execution_count": null,
   "metadata": {
    "collapsed": true
   },
   "outputs": [],
   "source": [
    "simulated_exit_rates = []\n",
    "for scaling_factor in scaling_factors:    \n",
    "    q = Queue()\n",
    "    exits = []\n",
    "    \n",
    "    t = 0\n",
    "    for _ in xrange(T):\n",
    "        t += np.random.exponential(1 / (scaling_factor * (arrival_rate + service_rate)))\n",
    "        if np.random.random() < arrival_rate / (arrival_rate + service_rate):\n",
    "            q.put(t)\n",
    "        elif not q.empty():\n",
    "            if np.random.random() < np.exp(-theta*scaling_factor*(t - q.get())):\n",
    "                exits.append(t)\n",
    "            elif using_feedback:\n",
    "                q.put(t)\n",
    "                \n",
    "    simulated_exit_rates.append(len(exits) / (scaling_factor * t))"
   ]
  },
  {
   "cell_type": "code",
   "execution_count": null,
   "metadata": {
    "collapsed": false
   },
   "outputs": [],
   "source": [
    "plt.xlabel('Scaling Factor')\n",
    "plt.ylabel('Exit Rate')\n",
    "plt.plot(scaling_factors, simulated_exit_rates, label='Simulated')\n",
    "plt.plot(scaling_factors, [flow_rate * expected_recall_rate] * len(scaling_factors), '--', label='Predicted')\n",
    "plt.legend(loc='best')\n",
    "plt.show()"
   ]
  },
  {
   "cell_type": "code",
   "execution_count": null,
   "metadata": {
    "collapsed": true
   },
   "outputs": [],
   "source": []
  }
 ],
 "metadata": {
  "kernelspec": {
   "display_name": "Python 2",
   "language": "python",
   "name": "python2"
  },
  "language_info": {
   "codemirror_mode": {
    "name": "ipython",
    "version": 2
   },
   "file_extension": ".py",
   "mimetype": "text/x-python",
   "name": "python",
   "nbconvert_exporter": "python",
   "pygments_lexer": "ipython2",
   "version": "2.7.10"
  }
 },
 "nbformat": 4,
 "nbformat_minor": 0
}
