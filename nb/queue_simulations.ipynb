{
 "cells": [
  {
   "cell_type": "code",
   "execution_count": null,
   "metadata": {
    "collapsed": true
   },
   "outputs": [],
   "source": [
    "from __future__ import division\n",
    "\n",
    "from collections import defaultdict, Counter\n",
    "from Queue import Queue, LifoQueue\n",
    "\n",
    "import numpy as np"
   ]
  },
  {
   "cell_type": "code",
   "execution_count": null,
   "metadata": {
    "collapsed": true
   },
   "outputs": [],
   "source": [
    "from matplotlib import pyplot as plt\n",
    "import seaborn as sns\n",
    "%matplotlib inline"
   ]
  },
  {
   "cell_type": "code",
   "execution_count": null,
   "metadata": {
    "collapsed": true
   },
   "outputs": [],
   "source": [
    "import matplotlib as mpl\n",
    "mpl.rc('savefig', dpi=300)\n",
    "mpl.rc('text', usetex=True)"
   ]
  },
  {
   "cell_type": "markdown",
   "metadata": {},
   "source": [
    "With feedback\n",
    "-------------\n",
    "\n",
    "In the steady state, we have the following traffic equation.\n",
    "$$ \\lambda_{ext} + (1 - \\mathbb{E}[e^{-\\theta D}])\\lambda = \\lambda < \\mu $$  \n",
    "\n",
    "Assuming a FIFO service discipline, we can approximate delay as $D \\sim Exponential(\\mu - \\lambda)$. Noticing that the expected recall rate is the moment-generating function for $D$,\n",
    "\n",
    "$$ \\mathbb{E}[e^{-\\theta D}] = \\frac{\\mu - \\lambda}{\\mu - \\lambda + \\theta} $$  \n",
    "\n",
    "Plugging this expression into the traffic equation,\n",
    "\n",
    "$$ \\lambda = \\frac{\\mu - \\lambda + \\theta}{\\mu - \\lambda} \\cdot \\lambda_{ext} < \\mu $$  \n",
    "Without feedback\n",
    "----------------\n",
    "\n",
    "$$ \\lambda_{ext} = \\lambda < \\mu $$  "
   ]
  },
  {
   "cell_type": "code",
   "execution_count": null,
   "metadata": {
    "collapsed": true
   },
   "outputs": [],
   "source": [
    "T = 100000"
   ]
  },
  {
   "cell_type": "code",
   "execution_count": null,
   "metadata": {
    "collapsed": true
   },
   "outputs": [],
   "source": [
    "theta = 0.01\n",
    "arrival_rate = 0.2\n",
    "service_rate = 0.4"
   ]
  },
  {
   "cell_type": "code",
   "execution_count": null,
   "metadata": {
    "collapsed": true
   },
   "outputs": [],
   "source": [
    "using_feedback = True"
   ]
  },
  {
   "cell_type": "code",
   "execution_count": null,
   "metadata": {
    "collapsed": false
   },
   "outputs": [],
   "source": [
    "if using_feedback:\n",
    "    flow_rate = (service_rate + arrival_rate - np.sqrt((service_rate + arrival_rate)**2 - 4 * arrival_rate * (service_rate + theta))) / 2\n",
    "else:\n",
    "    flow_rate = arrival_rate\n",
    "print flow_rate"
   ]
  },
  {
   "cell_type": "code",
   "execution_count": null,
   "metadata": {
    "collapsed": false
   },
   "outputs": [],
   "source": [
    "if using_feedback:\n",
    "    expected_recall_rate = (service_rate - flow_rate) / (service_rate - flow_rate + theta)\n",
    "else:\n",
    "    expected_recall_rate = 1\n",
    "print expected_recall_rate"
   ]
  },
  {
   "cell_type": "code",
   "execution_count": null,
   "metadata": {
    "collapsed": false
   },
   "outputs": [],
   "source": [
    "assert service_rate > flow_rate / expected_recall_rate"
   ]
  },
  {
   "cell_type": "code",
   "execution_count": null,
   "metadata": {
    "collapsed": true
   },
   "outputs": [],
   "source": [
    "using_clocked_delays = True\n",
    "using_fifo = True\n",
    "using_balking = False"
   ]
  },
  {
   "cell_type": "code",
   "execution_count": null,
   "metadata": {
    "collapsed": false
   },
   "outputs": [],
   "source": [
    "feedback_threshold = np.log(service_rate / arrival_rate) / np.log(1 + theta / service_rate)\n",
    "print feedback_threshold"
   ]
  },
  {
   "cell_type": "code",
   "execution_count": null,
   "metadata": {
    "collapsed": false
   },
   "outputs": [],
   "source": [
    "q = Queue() if using_fifo else LifoQueue()\n",
    "exits = []\n",
    "delays = []"
   ]
  },
  {
   "cell_type": "code",
   "execution_count": null,
   "metadata": {
    "collapsed": false
   },
   "outputs": [],
   "source": [
    "# initialize queue with some items\n",
    "size = int(np.log(service_rate / arrival_rate) / np.log(1 + theta / service_rate)) + 10 # initial queue size\n",
    "iits = np.random.exponential(1 / (arrival_rate + service_rate), size) # inter-arrival times\n",
    "t = -sum(iits)\n",
    "for iit in iits:\n",
    "    t += iit\n",
    "    q.put(t)"
   ]
  },
  {
   "cell_type": "code",
   "execution_count": null,
   "metadata": {
    "collapsed": true
   },
   "outputs": [],
   "source": [
    "# initialize empty queue\n",
    "size = 0"
   ]
  },
  {
   "cell_type": "code",
   "execution_count": null,
   "metadata": {
    "collapsed": true
   },
   "outputs": [],
   "source": [
    "sizes = [size]"
   ]
  },
  {
   "cell_type": "code",
   "execution_count": null,
   "metadata": {
    "collapsed": false
   },
   "outputs": [],
   "source": [
    "t = 0\n",
    "outcomes_at_queue_size = defaultdict(list)\n",
    "for _ in xrange(T):\n",
    "    t += np.random.exponential(1 / (arrival_rate + service_rate))\n",
    "    if np.random.random() < arrival_rate / (arrival_rate + service_rate) and (not using_balking or size <= feedback_threshold):\n",
    "        q.put(t)\n",
    "        size += 1\n",
    "    elif not q.empty():\n",
    "        if using_clocked_delays:\n",
    "            delay = t - q.get()\n",
    "        else:\n",
    "            q.get()\n",
    "            delay = np.random.exponential(1 / (service_rate - flow_rate))\n",
    "        delays.append(delay)\n",
    "        if np.random.random() < np.exp(-theta*delay):\n",
    "            outcomes_at_queue_size[size].append(1)\n",
    "            exits.append(t)\n",
    "            size -= 1\n",
    "        elif using_feedback:\n",
    "            outcomes_at_queue_size[size].append(0)\n",
    "            q.put(t)\n",
    "            \n",
    "    sizes.append(size)"
   ]
  },
  {
   "cell_type": "code",
   "execution_count": null,
   "metadata": {
    "collapsed": true
   },
   "outputs": [],
   "source": [
    "timesteps_at_queue_size = Counter(sizes)"
   ]
  },
  {
   "cell_type": "code",
   "execution_count": null,
   "metadata": {
    "collapsed": false
   },
   "outputs": [],
   "source": [
    "plt.xlabel(r'Queue Size $i$ (Number of Items)')\n",
    "plt.ylabel(r'Fraction of Time Spent in State $i$')\n",
    "queue_sizes, num_timesteps = zip(*timesteps_at_queue_size.items())\n",
    "z = sum(num_timesteps)\n",
    "plt.scatter(queue_sizes, [x / z for x in num_timesteps], label='Simulated')\n",
    "\n",
    "queue_size_states = np.arange(0, max(queue_sizes)+1, 1)\n",
    "pis = ((arrival_rate / service_rate)**(queue_size_states))*((1+theta/service_rate)**(queue_size_states*(queue_size_states+1)/2))\n",
    "pis /= np.sum(pis)\n",
    "plt.plot(queue_size_states, pis, label=r'$\\pi_i$')\n",
    "\n",
    "plt.legend(loc='best')\n",
    "plt.show()"
   ]
  },
  {
   "cell_type": "code",
   "execution_count": null,
   "metadata": {
    "collapsed": false
   },
   "outputs": [],
   "source": [
    "plt.xlabel(r'Queue Size $i$ (Number of Items)')\n",
    "plt.ylabel('Recall Likelihood at Head of Queue')\n",
    "queue_sizes, outcomes = zip(*outcomes_at_queue_size.items())\n",
    "plt.scatter(queue_sizes, [np.mean(x) for x in outcomes], label='Simulated')\n",
    "\n",
    "queue_size_states = np.arange(0, max(queue_sizes)+1, 1)\n",
    "plt.plot(queue_size_states, (1+theta/service_rate)**(-queue_size_states), label=r'$\\left(1 + \\frac{\\theta}{\\mu}\\right)^{-i}$')\n",
    "\n",
    "plt.legend(loc='lower left')\n",
    "plt.show()"
   ]
  },
  {
   "cell_type": "code",
   "execution_count": null,
   "metadata": {
    "collapsed": false
   },
   "outputs": [],
   "source": [
    "plt.xlabel('Time')\n",
    "plt.ylabel('Queue Size (Number of Items)')\n",
    "plt.plot(sizes)\n",
    "plt.show()"
   ]
  },
  {
   "cell_type": "code",
   "execution_count": null,
   "metadata": {
    "collapsed": false
   },
   "outputs": [],
   "source": [
    "num_reps = 5\n",
    "#arrival_rates = np.arange(2*service_rate/20, 2*service_rate, 2*service_rate/20)\n",
    "#thresholds = [10, 50, 100]\n",
    "arrival_rates = [0.1, 0.3]#[0.25, 0.3, 0.35]\n",
    "thresholds = np.arange(1, 251, 1)"
   ]
  },
  {
   "cell_type": "code",
   "execution_count": null,
   "metadata": {
    "collapsed": true
   },
   "outputs": [],
   "source": [
    "throughputs = [[[] for _ in arrival_rates] for _ in thresholds]"
   ]
  },
  {
   "cell_type": "code",
   "execution_count": null,
   "metadata": {
    "collapsed": false,
    "scrolled": true
   },
   "outputs": [],
   "source": [
    "for threshold_idx, threshold in enumerate(thresholds):\n",
    "    for arrival_rate_idx, arrival_rate in enumerate(arrival_rates):\n",
    "        print \"%d %d %d %d\" % (threshold_idx, len(thresholds), arrival_rate_idx, len(arrival_rates))\n",
    "\n",
    "        for _ in xrange(num_reps):\n",
    "            q = Queue()\n",
    "            num_exits = 0\n",
    "            t = 0\n",
    "            size = 0\n",
    "            for _ in xrange(T):\n",
    "                t += np.random.exponential(1 / (arrival_rate + service_rate))\n",
    "                if np.random.random() < arrival_rate / (arrival_rate + service_rate):\n",
    "                    if size < threshold:\n",
    "                        size += 1\n",
    "                        q.put(t)\n",
    "                elif not q.empty():\n",
    "                    if np.random.random() < np.exp(-theta*(t - q.get())):\n",
    "                        size -= 1\n",
    "                        num_exits += 1\n",
    "                    else:\n",
    "                        q.put(t)\n",
    "\n",
    "            throughputs[threshold_idx][arrival_rate_idx].append(num_exits / t)"
   ]
  },
  {
   "cell_type": "code",
   "execution_count": null,
   "metadata": {
    "collapsed": false
   },
   "outputs": [],
   "source": [
    "plt.xlabel(r'Arrival Rate $\\lambda_{ext}$')\n",
    "plt.ylabel(r'Throughput $\\lambda_{out}$')\n",
    "for threshold, throughputs_for_threshold in zip(thresholds, throughputs):\n",
    "    plt.errorbar(arrival_rates, [np.mean(x) for x in throughputs_for_threshold], yerr=[np.std(x)/np.sqrt(len(x)) for x in throughputs_for_threshold], label=r'$k = %d$' % threshold)\n",
    "plt.legend(loc='best')\n",
    "plt.show()"
   ]
  },
  {
   "cell_type": "code",
   "execution_count": null,
   "metadata": {
    "collapsed": false
   },
   "outputs": [],
   "source": [
    "num_reps = 5\n",
    "thresholds = np.arange(1, 251, 5)\n",
    "arrival_rate = 0.3"
   ]
  },
  {
   "cell_type": "code",
   "execution_count": null,
   "metadata": {
    "collapsed": true
   },
   "outputs": [],
   "source": [
    "throughputs = [[] for _ in thresholds]"
   ]
  },
  {
   "cell_type": "code",
   "execution_count": null,
   "metadata": {
    "collapsed": false,
    "scrolled": true
   },
   "outputs": [],
   "source": [
    "for threshold_idx, threshold in enumerate(thresholds):\n",
    "    print \"%d %d\" % (threshold_idx, len(thresholds))\n",
    "    \n",
    "    for _ in xrange(num_reps):\n",
    "        q = Queue()\n",
    "        num_exits = 0\n",
    "        t = 0\n",
    "        size = 0\n",
    "        for _ in xrange(T):\n",
    "            t += np.random.exponential(1 / (arrival_rate + service_rate))\n",
    "            if np.random.random() < arrival_rate / (arrival_rate + service_rate):\n",
    "                if size < threshold:\n",
    "                    size += 1\n",
    "                    q.put(t)\n",
    "            elif not q.empty():\n",
    "                if np.random.random() < np.exp(-theta*(t - q.get())):\n",
    "                    size -= 1\n",
    "                    num_exits += 1\n",
    "                else:\n",
    "                    q.put(t)\n",
    "            \n",
    "        throughputs[threshold_idx].append(num_exits / t)"
   ]
  },
  {
   "cell_type": "code",
   "execution_count": null,
   "metadata": {
    "collapsed": true
   },
   "outputs": [],
   "source": [
    "pis_approx = np.zeros(len(thresholds))\n",
    "pis_ubound = np.zeros(len(thresholds))\n",
    "pis_lbound = np.zeros(len(thresholds))\n",
    "for i, threshold in enumerate(thresholds):\n",
    "    queue_size_states = np.arange(0, threshold+1, 1)\n",
    "    pis = ((arrival_rate / service_rate)**(queue_size_states))*((1+theta/service_rate)**(queue_size_states*(queue_size_states+1)/2))\n",
    "    pis /= np.sum(pis)\n",
    "    pis_approx[i] = pis[-1]\n",
    "    \n",
    "    pis = ((arrival_rate / service_rate)**(queue_size_states))*((1+theta/(arrival_rate+service_rate))**(queue_size_states*(queue_size_states+1)/2))\n",
    "    pis /= np.sum(pis)\n",
    "    pis_ubound[i] = pis[-1]\n",
    "    \n",
    "    pis = ((arrival_rate / service_rate)**(queue_size_states))*((1+theta/(arrival_rate))**(queue_size_states*(queue_size_states+1)/2))\n",
    "    pis /= np.sum(pis)\n",
    "    pis_lbound[i] = pis[-1]"
   ]
  },
  {
   "cell_type": "code",
   "execution_count": null,
   "metadata": {
    "collapsed": false
   },
   "outputs": [],
   "source": [
    "plt.xlabel(r'Upper Bound on Queue Size $k$')\n",
    "plt.ylabel(r'Throughput $\\lambda_{out}$')\n",
    "plt.plot(thresholds, arrival_rate*(1-pis_approx), label=r'$\\lambda_{ext}(1-\\pi^{\\mu}_k)$')\n",
    "plt.plot(thresholds, arrival_rate*(1-pis_ubound), label=r'$\\lambda_{ext}(1-\\pi^{\\lambda+\\mu}_k)$')\n",
    "plt.plot(thresholds, arrival_rate*(1-pis_lbound), label=r'$\\lambda_{ext}(1-\\pi^{\\lambda}_k)$')\n",
    "plt.errorbar(thresholds, [np.mean(x) for x in throughputs], yerr=[np.std(x)/np.sqrt(len(x)) for x in throughputs], label='Simulated')\n",
    "plt.legend(loc='best')\n",
    "plt.show()"
   ]
  },
  {
   "cell_type": "code",
   "execution_count": null,
   "metadata": {
    "collapsed": false
   },
   "outputs": [],
   "source": [
    "num_reps = 50\n",
    "init_sizes = range(int(2 * feedback_threshold))"
   ]
  },
  {
   "cell_type": "code",
   "execution_count": null,
   "metadata": {
    "collapsed": true
   },
   "outputs": [],
   "source": [
    "summ_sizes = [[] for _ in init_sizes]"
   ]
  },
  {
   "cell_type": "code",
   "execution_count": null,
   "metadata": {
    "collapsed": false,
    "scrolled": true
   },
   "outputs": [],
   "source": [
    "for init_size_idx, init_size in enumerate(init_sizes):\n",
    "    print \"%d %d\" % (init_size_idx, len(init_sizes))\n",
    "    for _ in xrange(num_reps):\n",
    "        q = Queue()\n",
    "\n",
    "        size = init_size\n",
    "        iits = np.random.exponential(1 / (arrival_rate + service_rate), size)\n",
    "        t = -sum(iits)\n",
    "        for iit in iits:\n",
    "            t += iit\n",
    "            q.put(t)\n",
    "        sizes = [size]\n",
    "\n",
    "        t = 0\n",
    "        for _ in xrange(T):\n",
    "            t += np.random.exponential(1 / (arrival_rate + service_rate))\n",
    "            if np.random.random() < arrival_rate / (arrival_rate + service_rate):\n",
    "                q.put(t)\n",
    "                size += 1\n",
    "            elif not q.empty():\n",
    "                if np.random.random() < np.exp(-theta*(t - q.get())):\n",
    "                    size -= 1\n",
    "                else:\n",
    "                    q.put(t)\n",
    "\n",
    "            sizes.append(size)\n",
    "            \n",
    "        summ_sizes[init_size_idx].append((np.max(sizes), np.min(sizes)))"
   ]
  },
  {
   "cell_type": "code",
   "execution_count": null,
   "metadata": {
    "collapsed": false
   },
   "outputs": [],
   "source": [
    "plt.xlabel('Initial Queue Size (Number of Items)')\n",
    "plt.ylabel('Extinction Probability')\n",
    "plt.errorbar(init_sizes, [np.mean([1 if z[1] == 0 else 0 for z in x]) for x in summ_sizes], yerr=[np.std([1 if z[1] == 0 else 0 for z in x])/np.sqrt(len(x)) for x in summ_sizes])\n",
    "plt.axvline(x=feedback_threshold, linestyle='--', label='Feedback Threshold')\n",
    "plt.legend(loc='best')\n",
    "plt.show()"
   ]
  },
  {
   "cell_type": "code",
   "execution_count": null,
   "metadata": {
    "collapsed": false
   },
   "outputs": [],
   "source": [
    "plt.xlabel('Simulated Delay')\n",
    "plt.ylabel('Frequency (Number of Interactions)')\n",
    "plt.hist(delays, bins=20, linewidth=0, alpha=0.5)\n",
    "plt.show()"
   ]
  },
  {
   "cell_type": "code",
   "execution_count": null,
   "metadata": {
    "collapsed": false
   },
   "outputs": [],
   "source": [
    "w = np.zeros(int(np.ceil(exits[-1])))\n",
    "for x in exits:\n",
    "    w[int(x)] += 1"
   ]
  },
  {
   "cell_type": "code",
   "execution_count": null,
   "metadata": {
    "collapsed": false,
    "scrolled": true
   },
   "outputs": [],
   "source": [
    "s = np.random.poisson(flow_rate * expected_recall_rate, 100000)"
   ]
  },
  {
   "cell_type": "code",
   "execution_count": null,
   "metadata": {
    "collapsed": false
   },
   "outputs": [],
   "source": [
    "plt.xlabel('Number of Exits in 1-Unit Window')\n",
    "plt.ylabel('Frequency (Number of Windows)')\n",
    "plt.hist(s, bins=20, alpha=0.5, linewidth=0, normed=True, label=r'Poisson($\\lambda = %0.3f$)' % (flow_rate * expected_recall_rate))\n",
    "plt.hist(w, bins=20, alpha=0.5, linewidth=0, normed=True, label='Simulated')\n",
    "plt.legend(loc='best')\n",
    "plt.show()"
   ]
  },
  {
   "cell_type": "code",
   "execution_count": null,
   "metadata": {
    "collapsed": true
   },
   "outputs": [],
   "source": [
    "ex = np.array(exits)\n",
    "interarrival_times = ex[1:] - ex[:-1]"
   ]
  },
  {
   "cell_type": "code",
   "execution_count": null,
   "metadata": {
    "collapsed": false
   },
   "outputs": [],
   "source": [
    "s = np.random.exponential(1 / (flow_rate * expected_recall_rate), 100000)"
   ]
  },
  {
   "cell_type": "code",
   "execution_count": null,
   "metadata": {
    "collapsed": false
   },
   "outputs": [],
   "source": [
    "plt.xlabel('Inter-Arrival Time')\n",
    "plt.ylabel('Frequency (Number of Exits)')\n",
    "plt.hist(interarrival_times, bins=20, alpha=0.5, linewidth=0, normed=True, label=r'Exponential($\\lambda = %0.3f$)' % (flow_rate * expected_recall_rate))\n",
    "plt.hist(interarrival_times, bins=20, alpha=0.5, linewidth=0, normed=True, label='Simulated')\n",
    "plt.legend(loc='best')\n",
    "plt.show()"
   ]
  },
  {
   "cell_type": "code",
   "execution_count": null,
   "metadata": {
    "collapsed": true
   },
   "outputs": [],
   "source": [
    "scaling_factors = np.arange(1, 100, 2)"
   ]
  },
  {
   "cell_type": "code",
   "execution_count": null,
   "metadata": {
    "collapsed": true
   },
   "outputs": [],
   "source": [
    "simulated_exit_rates = []\n",
    "for scaling_factor in scaling_factors:    \n",
    "    q = Queue()\n",
    "    exits = []\n",
    "    \n",
    "    t = 0\n",
    "    for _ in xrange(T):\n",
    "        t += np.random.exponential(1 / (scaling_factor * (arrival_rate + service_rate)))\n",
    "        if np.random.random() < arrival_rate / (arrival_rate + service_rate):\n",
    "            q.put(t)\n",
    "        elif not q.empty():\n",
    "            if np.random.random() < np.exp(-theta*scaling_factor*(t - q.get())):\n",
    "                exits.append(t)\n",
    "            elif using_feedback:\n",
    "                q.put(t)\n",
    "                \n",
    "    simulated_exit_rates.append(len(exits) / (scaling_factor * t))"
   ]
  },
  {
   "cell_type": "code",
   "execution_count": null,
   "metadata": {
    "collapsed": false
   },
   "outputs": [],
   "source": [
    "plt.xlabel('Scaling Factor')\n",
    "plt.ylabel('Exit Rate')\n",
    "plt.plot(scaling_factors, simulated_exit_rates, label='Simulated')\n",
    "plt.plot(scaling_factors, [flow_rate * expected_recall_rate] * len(scaling_factors), '--', label='Predicted')\n",
    "plt.legend(loc='best')\n",
    "plt.show()"
   ]
  },
  {
   "cell_type": "code",
   "execution_count": null,
   "metadata": {
    "collapsed": true
   },
   "outputs": [],
   "source": []
  }
 ],
 "metadata": {
  "kernelspec": {
   "display_name": "Python 2",
   "language": "python",
   "name": "python2"
  },
  "language_info": {
   "codemirror_mode": {
    "name": "ipython",
    "version": 2
   },
   "file_extension": ".py",
   "mimetype": "text/x-python",
   "name": "python",
   "nbconvert_exporter": "python",
   "pygments_lexer": "ipython2",
   "version": "2.7.10"
  }
 },
 "nbformat": 4,
 "nbformat_minor": 0
}
