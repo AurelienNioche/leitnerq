{
 "cells": [
  {
   "cell_type": "code",
   "execution_count": null,
   "metadata": {
    "collapsed": true
   },
   "outputs": [],
   "source": [
    "using Gadfly"
   ]
  },
  {
   "cell_type": "code",
   "execution_count": null,
   "metadata": {
    "collapsed": false
   },
   "outputs": [],
   "source": [
    "include(\"spp.jl\")"
   ]
  },
  {
   "cell_type": "markdown",
   "metadata": {},
   "source": [
    "Verify that the static planning problem produces a reasonable work rate allocation, maximum throughput, expected delays, and expected backlogs"
   ]
  },
  {
   "cell_type": "code",
   "execution_count": null,
   "metadata": {
    "collapsed": false
   },
   "outputs": [],
   "source": [
    "num_decks = 20\n",
    "work_rate_budget = 1\n",
    "difficulty = 0.01;"
   ]
  },
  {
   "cell_type": "code",
   "execution_count": null,
   "metadata": {
    "collapsed": false,
    "scrolled": false
   },
   "outputs": [],
   "source": [
    "opt_arrival_rate, opt_work_rates, equilibrium_flow_rates = allocate_work_rates(num_decks, work_rate_budget, difficulty);"
   ]
  },
  {
   "cell_type": "code",
   "execution_count": null,
   "metadata": {
    "collapsed": false,
    "scrolled": true
   },
   "outputs": [],
   "source": [
    "p1 = plot(x=1:num_decks, y=opt_work_rates, Geom.point, Geom.line, Guide.xlabel(\"Deck\"), Guide.ylabel(\"Work Rate\"), Guide.title(\"Optimal Work Rate Allocation\"))"
   ]
  },
  {
   "cell_type": "code",
   "execution_count": null,
   "metadata": {
    "collapsed": false
   },
   "outputs": [],
   "source": [
    "draw(PDF(\"figures/lqn/p1.pdf\", 12cm, 8cm), p1)"
   ]
  },
  {
   "cell_type": "code",
   "execution_count": null,
   "metadata": {
    "collapsed": false
   },
   "outputs": [],
   "source": [
    "expected_delays = 1 ./ (opt_work_rates - equilibrium_flow_rates);"
   ]
  },
  {
   "cell_type": "code",
   "execution_count": null,
   "metadata": {
    "collapsed": false
   },
   "outputs": [],
   "source": [
    "p2 = plot(x=1:num_decks, y=expected_delays, Geom.point, Geom.line, Guide.xlabel(\"Deck\"), Guide.ylabel(\"Expected Delay\"), Guide.title(\"Intervals between Reviews\"))"
   ]
  },
  {
   "cell_type": "code",
   "execution_count": null,
   "metadata": {
    "collapsed": true
   },
   "outputs": [],
   "source": [
    "draw(PDF(\"figures/lqn/p2.pdf\", 12cm, 8cm), p2)"
   ]
  },
  {
   "cell_type": "code",
   "execution_count": null,
   "metadata": {
    "collapsed": false
   },
   "outputs": [],
   "source": [
    "p3 = plot(x=1:num_decks, y=expected_delays.*equilibrium_flow_rates, Geom.point, Geom.line, Guide.xlabel(\"Deck\"), Guide.ylabel(\"Expected Queue Length\"), Guide.title(\"Queue Backlogs\"))"
   ]
  },
  {
   "cell_type": "code",
   "execution_count": null,
   "metadata": {
    "collapsed": true
   },
   "outputs": [],
   "source": [
    "draw(PDF(\"figures/lqn/p3.pdf\", 12cm, 8cm), p3)"
   ]
  },
  {
   "cell_type": "markdown",
   "metadata": {},
   "source": [
    "How do the optimal work rate allocation and throughput vary with difficulty $\\theta$?"
   ]
  },
  {
   "cell_type": "code",
   "execution_count": null,
   "metadata": {
    "collapsed": false
   },
   "outputs": [],
   "source": [
    "num_decks = 20\n",
    "work_rate_budget = 1.\n",
    "difficulties = [0.001, 0.01, 0.05, 0.1];"
   ]
  },
  {
   "cell_type": "code",
   "execution_count": null,
   "metadata": {
    "collapsed": false
   },
   "outputs": [],
   "source": [
    "res = [allocate_work_rates(num_decks, work_rate_budget, d) for d=difficulties];"
   ]
  },
  {
   "cell_type": "code",
   "execution_count": null,
   "metadata": {
    "collapsed": false
   },
   "outputs": [],
   "source": [
    "arrival_rates = [x[1] for x=res]\n",
    "work_rates = [x[2] for x=res];"
   ]
  },
  {
   "cell_type": "code",
   "execution_count": null,
   "metadata": {
    "collapsed": false
   },
   "outputs": [],
   "source": [
    "colors = [\"red\", \"pink\", \"orange\", \"gray\", \"blue\"];"
   ]
  },
  {
   "cell_type": "code",
   "execution_count": null,
   "metadata": {
    "collapsed": false
   },
   "outputs": [],
   "source": [
    "p4 = plot(map(d -> layer(x=1:num_decks, y=work_rates[d], Theme(default_color=color(colors[d])), Geom.line)[1], 1:length(difficulties)), Guide.xlabel(\"Deck\"), Guide.ylabel(\"Work Rate\"), Guide.title(\"Optimal Work Rate Allocation\"), Guide.manual_color_key(\"Difficulty\", map(string, difficulties), colors[1:length(difficulties)]))"
   ]
  },
  {
   "cell_type": "code",
   "execution_count": null,
   "metadata": {
    "collapsed": false
   },
   "outputs": [],
   "source": [
    "draw(PDF(\"figures/lqn/p4.pdf\", 12cm, 8cm), p4)"
   ]
  },
  {
   "cell_type": "code",
   "execution_count": null,
   "metadata": {
    "collapsed": true
   },
   "outputs": [],
   "source": [
    "difficulties = 0.001:0.005:0.1;"
   ]
  },
  {
   "cell_type": "code",
   "execution_count": null,
   "metadata": {
    "collapsed": true
   },
   "outputs": [],
   "source": [
    "res = [allocate_work_rates(num_decks, work_rate_budget, d) for d=difficulties];"
   ]
  },
  {
   "cell_type": "code",
   "execution_count": null,
   "metadata": {
    "collapsed": false
   },
   "outputs": [],
   "source": [
    "p5 = plot(x=difficulties, y=[x[1] for x=res], Geom.point, Geom.line, Guide.xlabel(\"Difficulty\"), Guide.ylabel(\"Max Arrival Rate\"), Guide.title(\"Throughput vs. Difficulty\"))"
   ]
  },
  {
   "cell_type": "code",
   "execution_count": null,
   "metadata": {
    "collapsed": true
   },
   "outputs": [],
   "source": [
    "draw(PDF(\"figures/lqn/p5.pdf\", 12cm, 8cm), p5)"
   ]
  },
  {
   "cell_type": "markdown",
   "metadata": {},
   "source": [
    "How does the optimal throughput vary with budget $U$?"
   ]
  },
  {
   "cell_type": "code",
   "execution_count": null,
   "metadata": {
    "collapsed": false
   },
   "outputs": [],
   "source": [
    "num_decks = 5\n",
    "difficulty = 0.01\n",
    "budgets = 0.02:0.05:1"
   ]
  },
  {
   "cell_type": "code",
   "execution_count": null,
   "metadata": {
    "collapsed": false
   },
   "outputs": [],
   "source": [
    "res = [allocate_work_rates(num_decks, d, difficulty) for d=budgets];"
   ]
  },
  {
   "cell_type": "code",
   "execution_count": null,
   "metadata": {
    "collapsed": false,
    "scrolled": true
   },
   "outputs": [],
   "source": [
    "p6 = plot(x=budgets, y=[x[1] for x=res], Geom.point, Geom.line, Guide.xlabel(\"Work Rate Budget\"), Guide.ylabel(\"Max Arrival Rate\"), Guide.title(\"Throughput vs. Budget\"))"
   ]
  },
  {
   "cell_type": "code",
   "execution_count": null,
   "metadata": {
    "collapsed": true
   },
   "outputs": [],
   "source": [
    "draw(PDF(\"figures/lqn/p6.pdf\", 12cm, 8cm), p6)"
   ]
  },
  {
   "cell_type": "markdown",
   "metadata": {},
   "source": [
    "Determine the maximum throughput (i.e., the theoretical phase transition threshold) for simulations and the Mechanical Turk experiments"
   ]
  },
  {
   "cell_type": "code",
   "execution_count": null,
   "metadata": {
    "collapsed": false
   },
   "outputs": [],
   "source": [
    "num_decks = 5\n",
    "difficulty = 0.0076899999999998905 # from mturk_experiments.ipynb\n",
    "work_rate_budget = 0.19020740740740741 # from mturk_experiments.ipynb\n",
    "allocation_heuristic = x -> 1/sqrt(x)"
   ]
  },
  {
   "cell_type": "code",
   "execution_count": null,
   "metadata": {
    "collapsed": false
   },
   "outputs": [],
   "source": [
    "eps = 1e-6\n",
    "function bisect(lext_min, lext_max)\n",
    "    lext_mid = (lext_min + lext_max) / 2\n",
    "    work_rates = work_rates_of_heuristic(num_decks, work_rate_budget - lext_mid, allocation_heuristic)\n",
    "    throughput = throughput_for_work_rates(num_decks, work_rates, difficulty)\n",
    "    if lext_mid > throughput && lext_mid - throughput < eps\n",
    "        return lext_mid\n",
    "    elseif lext_mid < throughput\n",
    "        return bisect(lext_mid, lext_max)\n",
    "    else\n",
    "        return bisect(lext_min, lext_mid)\n",
    "    end\n",
    "end"
   ]
  },
  {
   "cell_type": "code",
   "execution_count": null,
   "metadata": {
    "collapsed": false
   },
   "outputs": [],
   "source": [
    "theoretical_phase_transition_threshold = bisect(0.0001, 0.2)"
   ]
  },
  {
   "cell_type": "markdown",
   "metadata": {},
   "source": [
    "Compute expected delays for simulations"
   ]
  },
  {
   "cell_type": "code",
   "execution_count": null,
   "metadata": {
    "collapsed": false
   },
   "outputs": [],
   "source": [
    "arrival_rates = 0.001:0.0005:0.01"
   ]
  },
  {
   "cell_type": "code",
   "execution_count": null,
   "metadata": {
    "collapsed": false
   },
   "outputs": [],
   "source": [
    "for arrival_rate in arrival_rates\n",
    "    work_rates =  work_rates_of_heuristic(num_decks, work_rate_budget-arrival_rate, allocation_heuristic)\n",
    "    println(1 ./ (work_rates - eq_flow_rates_for_work_rates_and_arrival_rate(num_decks, work_rates, difficulty, arrival_rate)[2]))\n",
    "end"
   ]
  },
  {
   "cell_type": "code",
   "execution_count": null,
   "metadata": {
    "collapsed": true
   },
   "outputs": [],
   "source": []
  }
 ],
 "metadata": {
  "kernelspec": {
   "display_name": "Julia 0.3.11",
   "language": "julia",
   "name": "julia-0.3"
  },
  "language_info": {
   "file_extension": ".jl",
   "mimetype": "application/julia",
   "name": "julia",
   "version": "0.3.11"
  }
 },
 "nbformat": 4,
 "nbformat_minor": 0
}
